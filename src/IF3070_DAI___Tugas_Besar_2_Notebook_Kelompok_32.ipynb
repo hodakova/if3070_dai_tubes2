{
  "cells": [
    {
      "cell_type": "markdown",
      "metadata": {
        "id": "uR1JW69eLfG_"
      },
      "source": [
        "# IF3070 Foundations of Artificial Intelligence | Tugas Besar 2\n",
        "\n",
        "This notebook serves as a template for the assignment. Please create a copy of this notebook to complete your work. You can add more code blocks, markdown blocks, or new sections if needed.\n"
      ]
    },
    {
      "cell_type": "markdown",
      "metadata": {
        "id": "ucbaI5rBLtjJ"
      },
      "source": [
        "Group Number: 32\n",
        "\n",
        "Group Members:\n",
        "\n",
        "- Matthew Lim (18222005)\n",
        "- Habib Akhmad Al Farisi (18222029)\n",
        "- Winata Tristan (18222061)\n",
        "- Ahmad Habibie Marjan (18222082)\n",
        "- Satria Wisnu Wibowo (18222087)\n"
      ]
    },
    {
      "cell_type": "markdown",
      "metadata": {
        "id": "GwzsfETHLfHA"
      },
      "source": [
        "## Import Libraries\n"
      ]
    },
    {
      "cell_type": "code",
      "execution_count": 76,
      "metadata": {
        "id": "jZJU5W_4LfHB"
      },
      "outputs": [],
      "source": [
        "import pandas as pd\n",
        "import numpy as np\n",
        "from sklearn.model_selection import train_test_split\n",
        "from sklearn.base import BaseEstimator, TransformerMixin\n",
        "from sklearn.impute import SimpleImputer\n",
        "import matplotlib.pyplot as plt\n",
        "import seaborn as sns\n",
        "from sklearn.preprocessing import MinMaxScaler, StandardScaler, RobustScaler\n",
        "from imblearn.over_sampling import SMOTE\n",
        "from sklearn.pipeline import Pipeline\n",
        "from sklearn.neighbors import KNeighborsClassifier\n",
        "from sklearn.metrics import accuracy_score, classification_report, confusion_matrix\n",
        "from collections import Counter\n",
        "from sklearn.naive_bayes import GaussianNB\n",
        "import joblib"
      ]
    },
    {
      "cell_type": "markdown",
      "metadata": {
        "id": "OKbjLIdYLfHC"
      },
      "source": [
        "## Import Dataset\n"
      ]
    },
    {
      "cell_type": "code",
      "execution_count": 77,
      "metadata": {
        "colab": {
          "base_uri": "https://localhost:8080/",
          "height": 236
        },
        "id": "-IWFJ-gdLfHD",
        "outputId": "b8730fe2-0e8c-4d73-cb62-14aad1551860"
      },
      "outputs": [
        {
          "data": {
            "text/html": [
              "<div>\n",
              "<style scoped>\n",
              "    .dataframe tbody tr th:only-of-type {\n",
              "        vertical-align: middle;\n",
              "    }\n",
              "\n",
              "    .dataframe tbody tr th {\n",
              "        vertical-align: top;\n",
              "    }\n",
              "\n",
              "    .dataframe thead th {\n",
              "        text-align: right;\n",
              "    }\n",
              "</style>\n",
              "<table border=\"1\" class=\"dataframe\">\n",
              "  <thead>\n",
              "    <tr style=\"text-align: right;\">\n",
              "      <th></th>\n",
              "      <th>id</th>\n",
              "      <th>FILENAME</th>\n",
              "      <th>URL</th>\n",
              "      <th>URLLength</th>\n",
              "      <th>Domain</th>\n",
              "      <th>DomainLength</th>\n",
              "      <th>IsDomainIP</th>\n",
              "      <th>TLD</th>\n",
              "      <th>CharContinuationRate</th>\n",
              "      <th>TLDLegitimateProb</th>\n",
              "      <th>...</th>\n",
              "      <th>Pay</th>\n",
              "      <th>Crypto</th>\n",
              "      <th>HasCopyrightInfo</th>\n",
              "      <th>NoOfImage</th>\n",
              "      <th>NoOfCSS</th>\n",
              "      <th>NoOfJS</th>\n",
              "      <th>NoOfSelfRef</th>\n",
              "      <th>NoOfEmptyRef</th>\n",
              "      <th>NoOfExternalRef</th>\n",
              "      <th>label</th>\n",
              "    </tr>\n",
              "  </thead>\n",
              "  <tbody>\n",
              "    <tr>\n",
              "      <th>0</th>\n",
              "      <td>1</td>\n",
              "      <td>NaN</td>\n",
              "      <td>https://www.northcm.ac.th</td>\n",
              "      <td>24.0</td>\n",
              "      <td>www.northcm.ac.th</td>\n",
              "      <td>17.0</td>\n",
              "      <td>0.0</td>\n",
              "      <td>NaN</td>\n",
              "      <td>0.800000</td>\n",
              "      <td>NaN</td>\n",
              "      <td>...</td>\n",
              "      <td>0.0</td>\n",
              "      <td>0.0</td>\n",
              "      <td>1.0</td>\n",
              "      <td>NaN</td>\n",
              "      <td>3.0</td>\n",
              "      <td>NaN</td>\n",
              "      <td>69.0</td>\n",
              "      <td>NaN</td>\n",
              "      <td>NaN</td>\n",
              "      <td>1</td>\n",
              "    </tr>\n",
              "    <tr>\n",
              "      <th>1</th>\n",
              "      <td>4</td>\n",
              "      <td>8135291.txt</td>\n",
              "      <td>http://uqr.to/1il1z</td>\n",
              "      <td>NaN</td>\n",
              "      <td>NaN</td>\n",
              "      <td>NaN</td>\n",
              "      <td>NaN</td>\n",
              "      <td>to</td>\n",
              "      <td>1.000000</td>\n",
              "      <td>0.000896</td>\n",
              "      <td>...</td>\n",
              "      <td>NaN</td>\n",
              "      <td>0.0</td>\n",
              "      <td>0.0</td>\n",
              "      <td>NaN</td>\n",
              "      <td>NaN</td>\n",
              "      <td>NaN</td>\n",
              "      <td>NaN</td>\n",
              "      <td>NaN</td>\n",
              "      <td>1.0</td>\n",
              "      <td>0</td>\n",
              "    </tr>\n",
              "    <tr>\n",
              "      <th>2</th>\n",
              "      <td>5</td>\n",
              "      <td>586561.txt</td>\n",
              "      <td>https://www.woolworthsrewards.com.au</td>\n",
              "      <td>35.0</td>\n",
              "      <td>www.woolworthsrewards.com.au</td>\n",
              "      <td>28.0</td>\n",
              "      <td>0.0</td>\n",
              "      <td>au</td>\n",
              "      <td>0.857143</td>\n",
              "      <td>NaN</td>\n",
              "      <td>...</td>\n",
              "      <td>1.0</td>\n",
              "      <td>0.0</td>\n",
              "      <td>1.0</td>\n",
              "      <td>33.0</td>\n",
              "      <td>7.0</td>\n",
              "      <td>8.0</td>\n",
              "      <td>15.0</td>\n",
              "      <td>NaN</td>\n",
              "      <td>2.0</td>\n",
              "      <td>1</td>\n",
              "    </tr>\n",
              "    <tr>\n",
              "      <th>3</th>\n",
              "      <td>6</td>\n",
              "      <td>NaN</td>\n",
              "      <td>NaN</td>\n",
              "      <td>31.0</td>\n",
              "      <td>NaN</td>\n",
              "      <td>NaN</td>\n",
              "      <td>NaN</td>\n",
              "      <td>com</td>\n",
              "      <td>0.562500</td>\n",
              "      <td>0.522907</td>\n",
              "      <td>...</td>\n",
              "      <td>1.0</td>\n",
              "      <td>0.0</td>\n",
              "      <td>1.0</td>\n",
              "      <td>24.0</td>\n",
              "      <td>5.0</td>\n",
              "      <td>14.0</td>\n",
              "      <td>NaN</td>\n",
              "      <td>NaN</td>\n",
              "      <td>NaN</td>\n",
              "      <td>1</td>\n",
              "    </tr>\n",
              "    <tr>\n",
              "      <th>4</th>\n",
              "      <td>11</td>\n",
              "      <td>412632.txt</td>\n",
              "      <td>NaN</td>\n",
              "      <td>NaN</td>\n",
              "      <td>www.nyprowrestling.com</td>\n",
              "      <td>22.0</td>\n",
              "      <td>0.0</td>\n",
              "      <td>NaN</td>\n",
              "      <td>1.000000</td>\n",
              "      <td>NaN</td>\n",
              "      <td>...</td>\n",
              "      <td>0.0</td>\n",
              "      <td>0.0</td>\n",
              "      <td>1.0</td>\n",
              "      <td>NaN</td>\n",
              "      <td>NaN</td>\n",
              "      <td>14.0</td>\n",
              "      <td>NaN</td>\n",
              "      <td>0.0</td>\n",
              "      <td>NaN</td>\n",
              "      <td>1</td>\n",
              "    </tr>\n",
              "  </tbody>\n",
              "</table>\n",
              "<p>5 rows × 56 columns</p>\n",
              "</div>"
            ],
            "text/plain": [
              "   id     FILENAME                                   URL  URLLength  \\\n",
              "0   1          NaN             https://www.northcm.ac.th       24.0   \n",
              "1   4  8135291.txt                   http://uqr.to/1il1z        NaN   \n",
              "2   5   586561.txt  https://www.woolworthsrewards.com.au       35.0   \n",
              "3   6          NaN                                   NaN       31.0   \n",
              "4  11   412632.txt                                   NaN        NaN   \n",
              "\n",
              "                         Domain  DomainLength  IsDomainIP  TLD  \\\n",
              "0             www.northcm.ac.th          17.0         0.0  NaN   \n",
              "1                           NaN           NaN         NaN   to   \n",
              "2  www.woolworthsrewards.com.au          28.0         0.0   au   \n",
              "3                           NaN           NaN         NaN  com   \n",
              "4        www.nyprowrestling.com          22.0         0.0  NaN   \n",
              "\n",
              "   CharContinuationRate  TLDLegitimateProb  ...  Pay  Crypto  \\\n",
              "0              0.800000                NaN  ...  0.0     0.0   \n",
              "1              1.000000           0.000896  ...  NaN     0.0   \n",
              "2              0.857143                NaN  ...  1.0     0.0   \n",
              "3              0.562500           0.522907  ...  1.0     0.0   \n",
              "4              1.000000                NaN  ...  0.0     0.0   \n",
              "\n",
              "   HasCopyrightInfo  NoOfImage  NoOfCSS  NoOfJS  NoOfSelfRef  NoOfEmptyRef  \\\n",
              "0               1.0        NaN      3.0     NaN         69.0           NaN   \n",
              "1               0.0        NaN      NaN     NaN          NaN           NaN   \n",
              "2               1.0       33.0      7.0     8.0         15.0           NaN   \n",
              "3               1.0       24.0      5.0    14.0          NaN           NaN   \n",
              "4               1.0        NaN      NaN    14.0          NaN           0.0   \n",
              "\n",
              "   NoOfExternalRef  label  \n",
              "0              NaN      1  \n",
              "1              1.0      0  \n",
              "2              2.0      1  \n",
              "3              NaN      1  \n",
              "4              NaN      1  \n",
              "\n",
              "[5 rows x 56 columns]"
            ]
          },
          "execution_count": 77,
          "metadata": {},
          "output_type": "execute_result"
        }
      ],
      "source": [
        "# Example of reading a csv file from a gdrive link\n",
        "\n",
        "# Take the file id from the gdrive file url\n",
        "# https://drive.google.com/file/d/1ZUtiaty9RPXhpz5F2Sy3dFPHF4YIt5iU/view?usp=sharing => The file id is 1ZUtiaty9RPXhpz5F2Sy3dFPHF4YIt5iU\n",
        "# and then put it in this format:\n",
        "# https://drive.google.com/uc?id={file_id}\n",
        "# Don't forget to change the access to public\n",
        "\n",
        "df = pd.read_csv('https://drive.google.com/uc?id=1U4GyI8BD21xL4-9y4uOOOYxPVO9zoMYf')\n",
        "df.head()"
      ]
    },
    {
      "cell_type": "markdown",
      "metadata": {
        "id": "gvx-gT3bLfHM"
      },
      "source": [
        "# 1. Split Training Set and Validation Set\n",
        "\n",
        "Splitting the training and validation set works as an early diagnostic towards the performance of the model we train. This is done before the preprocessing steps to **avoid data leakage inbetween the sets**. If you want to use k-fold cross-validation, split the data later and do the cleaning and preprocessing separately for each split.\n",
        "\n",
        "Note: For training, you should use the data contained in the `train` folder given by the TA. The `test` data is only used for kaggle submission.\n"
      ]
    },
    {
      "cell_type": "markdown",
      "metadata": {
        "id": "m7q4ShI-cJ3R"
      },
      "source": [
        "## A. Drop Unnecessary Features\n"
      ]
    },
    {
      "cell_type": "code",
      "execution_count": 78,
      "metadata": {
        "colab": {
          "base_uri": "https://localhost:8080/",
          "height": 496
        },
        "id": "Du7Y7qhcQqoW",
        "outputId": "83fbc485-7ab0-4028-fac0-8db54b46032b"
      },
      "outputs": [
        {
          "name": "stdout",
          "output_type": "stream",
          "text": [
            "Index(['id', 'URLLength', 'DomainLength', 'IsDomainIP', 'TLD',\n",
            "       'CharContinuationRate', 'TLDLegitimateProb', 'URLCharProb', 'TLDLength',\n",
            "       'NoOfSubDomain', 'HasObfuscation', 'NoOfObfuscatedChar',\n",
            "       'ObfuscationRatio', 'NoOfLettersInURL', 'LetterRatioInURL',\n",
            "       'NoOfDegitsInURL', 'DegitRatioInURL', 'NoOfEqualsInURL',\n",
            "       'NoOfQMarkInURL', 'NoOfAmpersandInURL', 'NoOfOtherSpecialCharsInURL',\n",
            "       'SpacialCharRatioInURL', 'IsHTTPS', 'LineOfCode', 'LargestLineLength',\n",
            "       'HasTitle', 'DomainTitleMatchScore', 'URLTitleMatchScore', 'HasFavicon',\n",
            "       'Robots', 'IsResponsive', 'NoOfURLRedirect', 'NoOfSelfRedirect',\n",
            "       'HasDescription', 'NoOfPopup', 'NoOfiFrame', 'HasExternalFormSubmit',\n",
            "       'HasSocialNet', 'HasSubmitButton', 'HasHiddenFields',\n",
            "       'HasPasswordField', 'Bank', 'Pay', 'Crypto', 'HasCopyrightInfo',\n",
            "       'NoOfImage', 'NoOfCSS', 'NoOfJS', 'NoOfSelfRef', 'NoOfEmptyRef',\n",
            "       'NoOfExternalRef', 'label'],\n",
            "      dtype='object')\n"
          ]
        },
        {
          "data": {
            "text/html": [
              "<div>\n",
              "<style scoped>\n",
              "    .dataframe tbody tr th:only-of-type {\n",
              "        vertical-align: middle;\n",
              "    }\n",
              "\n",
              "    .dataframe tbody tr th {\n",
              "        vertical-align: top;\n",
              "    }\n",
              "\n",
              "    .dataframe thead th {\n",
              "        text-align: right;\n",
              "    }\n",
              "</style>\n",
              "<table border=\"1\" class=\"dataframe\">\n",
              "  <thead>\n",
              "    <tr style=\"text-align: right;\">\n",
              "      <th></th>\n",
              "      <th>id</th>\n",
              "      <th>URLLength</th>\n",
              "      <th>DomainLength</th>\n",
              "      <th>IsDomainIP</th>\n",
              "      <th>TLD</th>\n",
              "      <th>CharContinuationRate</th>\n",
              "      <th>TLDLegitimateProb</th>\n",
              "      <th>URLCharProb</th>\n",
              "      <th>TLDLength</th>\n",
              "      <th>NoOfSubDomain</th>\n",
              "      <th>...</th>\n",
              "      <th>Pay</th>\n",
              "      <th>Crypto</th>\n",
              "      <th>HasCopyrightInfo</th>\n",
              "      <th>NoOfImage</th>\n",
              "      <th>NoOfCSS</th>\n",
              "      <th>NoOfJS</th>\n",
              "      <th>NoOfSelfRef</th>\n",
              "      <th>NoOfEmptyRef</th>\n",
              "      <th>NoOfExternalRef</th>\n",
              "      <th>label</th>\n",
              "    </tr>\n",
              "  </thead>\n",
              "  <tbody>\n",
              "    <tr>\n",
              "      <th>0</th>\n",
              "      <td>1</td>\n",
              "      <td>24.0</td>\n",
              "      <td>17.0</td>\n",
              "      <td>0.0</td>\n",
              "      <td>NaN</td>\n",
              "      <td>0.800000</td>\n",
              "      <td>NaN</td>\n",
              "      <td>NaN</td>\n",
              "      <td>NaN</td>\n",
              "      <td>2.0</td>\n",
              "      <td>...</td>\n",
              "      <td>0.0</td>\n",
              "      <td>0.0</td>\n",
              "      <td>1.0</td>\n",
              "      <td>NaN</td>\n",
              "      <td>3.0</td>\n",
              "      <td>NaN</td>\n",
              "      <td>69.0</td>\n",
              "      <td>NaN</td>\n",
              "      <td>NaN</td>\n",
              "      <td>1</td>\n",
              "    </tr>\n",
              "    <tr>\n",
              "      <th>1</th>\n",
              "      <td>4</td>\n",
              "      <td>NaN</td>\n",
              "      <td>NaN</td>\n",
              "      <td>NaN</td>\n",
              "      <td>to</td>\n",
              "      <td>1.000000</td>\n",
              "      <td>0.000896</td>\n",
              "      <td>0.036850</td>\n",
              "      <td>2.0</td>\n",
              "      <td>0.0</td>\n",
              "      <td>...</td>\n",
              "      <td>NaN</td>\n",
              "      <td>0.0</td>\n",
              "      <td>0.0</td>\n",
              "      <td>NaN</td>\n",
              "      <td>NaN</td>\n",
              "      <td>NaN</td>\n",
              "      <td>NaN</td>\n",
              "      <td>NaN</td>\n",
              "      <td>1.0</td>\n",
              "      <td>0</td>\n",
              "    </tr>\n",
              "    <tr>\n",
              "      <th>2</th>\n",
              "      <td>5</td>\n",
              "      <td>35.0</td>\n",
              "      <td>28.0</td>\n",
              "      <td>0.0</td>\n",
              "      <td>au</td>\n",
              "      <td>0.857143</td>\n",
              "      <td>NaN</td>\n",
              "      <td>0.060894</td>\n",
              "      <td>NaN</td>\n",
              "      <td>2.0</td>\n",
              "      <td>...</td>\n",
              "      <td>1.0</td>\n",
              "      <td>0.0</td>\n",
              "      <td>1.0</td>\n",
              "      <td>33.0</td>\n",
              "      <td>7.0</td>\n",
              "      <td>8.0</td>\n",
              "      <td>15.0</td>\n",
              "      <td>NaN</td>\n",
              "      <td>2.0</td>\n",
              "      <td>1</td>\n",
              "    </tr>\n",
              "    <tr>\n",
              "      <th>3</th>\n",
              "      <td>6</td>\n",
              "      <td>31.0</td>\n",
              "      <td>NaN</td>\n",
              "      <td>NaN</td>\n",
              "      <td>com</td>\n",
              "      <td>0.562500</td>\n",
              "      <td>0.522907</td>\n",
              "      <td>0.055829</td>\n",
              "      <td>NaN</td>\n",
              "      <td>1.0</td>\n",
              "      <td>...</td>\n",
              "      <td>1.0</td>\n",
              "      <td>0.0</td>\n",
              "      <td>1.0</td>\n",
              "      <td>24.0</td>\n",
              "      <td>5.0</td>\n",
              "      <td>14.0</td>\n",
              "      <td>NaN</td>\n",
              "      <td>NaN</td>\n",
              "      <td>NaN</td>\n",
              "      <td>1</td>\n",
              "    </tr>\n",
              "    <tr>\n",
              "      <th>4</th>\n",
              "      <td>11</td>\n",
              "      <td>NaN</td>\n",
              "      <td>22.0</td>\n",
              "      <td>0.0</td>\n",
              "      <td>NaN</td>\n",
              "      <td>1.000000</td>\n",
              "      <td>NaN</td>\n",
              "      <td>NaN</td>\n",
              "      <td>NaN</td>\n",
              "      <td>1.0</td>\n",
              "      <td>...</td>\n",
              "      <td>0.0</td>\n",
              "      <td>0.0</td>\n",
              "      <td>1.0</td>\n",
              "      <td>NaN</td>\n",
              "      <td>NaN</td>\n",
              "      <td>14.0</td>\n",
              "      <td>NaN</td>\n",
              "      <td>0.0</td>\n",
              "      <td>NaN</td>\n",
              "      <td>1</td>\n",
              "    </tr>\n",
              "  </tbody>\n",
              "</table>\n",
              "<p>5 rows × 52 columns</p>\n",
              "</div>"
            ],
            "text/plain": [
              "   id  URLLength  DomainLength  IsDomainIP  TLD  CharContinuationRate  \\\n",
              "0   1       24.0          17.0         0.0  NaN              0.800000   \n",
              "1   4        NaN           NaN         NaN   to              1.000000   \n",
              "2   5       35.0          28.0         0.0   au              0.857143   \n",
              "3   6       31.0           NaN         NaN  com              0.562500   \n",
              "4  11        NaN          22.0         0.0  NaN              1.000000   \n",
              "\n",
              "   TLDLegitimateProb  URLCharProb  TLDLength  NoOfSubDomain  ...  Pay  Crypto  \\\n",
              "0                NaN          NaN        NaN            2.0  ...  0.0     0.0   \n",
              "1           0.000896     0.036850        2.0            0.0  ...  NaN     0.0   \n",
              "2                NaN     0.060894        NaN            2.0  ...  1.0     0.0   \n",
              "3           0.522907     0.055829        NaN            1.0  ...  1.0     0.0   \n",
              "4                NaN          NaN        NaN            1.0  ...  0.0     0.0   \n",
              "\n",
              "   HasCopyrightInfo  NoOfImage  NoOfCSS  NoOfJS  NoOfSelfRef  NoOfEmptyRef  \\\n",
              "0               1.0        NaN      3.0     NaN         69.0           NaN   \n",
              "1               0.0        NaN      NaN     NaN          NaN           NaN   \n",
              "2               1.0       33.0      7.0     8.0         15.0           NaN   \n",
              "3               1.0       24.0      5.0    14.0          NaN           NaN   \n",
              "4               1.0        NaN      NaN    14.0          NaN           0.0   \n",
              "\n",
              "   NoOfExternalRef  label  \n",
              "0              NaN      1  \n",
              "1              1.0      0  \n",
              "2              2.0      1  \n",
              "3              NaN      1  \n",
              "4              NaN      1  \n",
              "\n",
              "[5 rows x 52 columns]"
            ]
          },
          "execution_count": 78,
          "metadata": {},
          "output_type": "execute_result"
        }
      ],
      "source": [
        "\n",
        "#Column yang didrop adala kolom yang memilih korelasi mendekati 0 atau 0 terhadap label dengan asumsi kolom ini memiliki behaviour sama dengan dataset tucil 2\n",
        "\n",
        "# Dropping unnecessary columns\n",
        "columns_to_drop = ['FILENAME', 'Domain', 'URL', 'Title']\n",
        "df_dropped_cols = df.drop(columns=columns_to_drop)\n",
        "\n",
        "# Verify the columns are removed\n",
        "print(df_dropped_cols.columns)\n",
        "\n",
        "df_dropped_cols.head()"
      ]
    },
    {
      "cell_type": "markdown",
      "metadata": {
        "id": "zKfErWIucY_U"
      },
      "source": [
        "## B. Split Training Set and Validation Set\n"
      ]
    },
    {
      "cell_type": "code",
      "execution_count": 79,
      "metadata": {
        "colab": {
          "base_uri": "https://localhost:8080/"
        },
        "id": "4yWCUFFBLfHM",
        "outputId": "9408f615-e4b9-4a6d-cb28-42fe3819a089"
      },
      "outputs": [
        {
          "name": "stdout",
          "output_type": "stream",
          "text": [
            "train_set: (112323, 52), val_set: (28081, 52)\n"
          ]
        }
      ],
      "source": [
        "# Save original training set\n",
        "train_data_ori = df_dropped_cols.copy()\n",
        "\n",
        "train_data, val_data = train_test_split(df_dropped_cols, test_size=0.2, random_state=42, stratify=df_dropped_cols['label'])\n",
        "\n",
        "print(f'train_set: {train_data.shape}, val_set: {val_data.shape}')"
      ]
    },
    {
      "cell_type": "code",
      "execution_count": 80,
      "metadata": {
        "colab": {
          "base_uri": "https://localhost:8080/"
        },
        "id": "XNnJTxte9LDX",
        "outputId": "edb7800f-033a-48c0-a081-fb131995d4f5"
      },
      "outputs": [
        {
          "name": "stdout",
          "output_type": "stream",
          "text": [
            "Class distribution in the training set:\n",
            "label\n",
            "1    103880\n",
            "0      8443\n",
            "Name: count, dtype: int64\n",
            "Class distribution in the validation set:\n",
            "label\n",
            "1    25970\n",
            "0     2111\n",
            "Name: count, dtype: int64\n"
          ]
        }
      ],
      "source": [
        "print(\"Class distribution in the training set:\")\n",
        "print(train_data['label'].value_counts())\n",
        "\n",
        "print(\"Class distribution in the validation set:\")\n",
        "print(val_data['label'].value_counts())"
      ]
    },
    {
      "cell_type": "markdown",
      "metadata": {
        "id": "IC14lmo_LfHN"
      },
      "source": [
        "# 2. Data Cleaning and Preprocessing\n",
        "\n",
        "This step is the first thing to be done once a Data Scientist have grasped a general knowledge of the data. Raw data is **seldom ready for training**, therefore steps need to be taken to clean and format the data for the Machine Learning model to interpret.\n",
        "\n",
        "By performing data cleaning and preprocessing, you ensure that your dataset is ready for model training, leading to more accurate and reliable machine learning results. These steps are essential for transforming raw data into a format that machine learning algorithms can effectively learn from and make predictions.\n",
        "\n",
        "We will give some common methods for you to try, but you only have to **at least implement one method for each process**. For each step that you will do, **please explain the reason why did you do that process. Write it in a markdown cell under the code cell you wrote.**\n"
      ]
    },
    {
      "cell_type": "markdown",
      "metadata": {
        "id": "p95_A8hSLfHY"
      },
      "source": [
        "## A. Data Cleaning\n",
        "\n",
        "**Data cleaning** is the crucial first step in preparing your dataset for machine learning. Raw data collected from various sources is often messy and may contain errors, missing values, and inconsistencies. Data cleaning involves the following steps:\n",
        "\n",
        "1. **Handling Missing Data:** Identify and address missing values in the dataset. This can include imputing missing values, removing rows or columns with excessive missing data, or using more advanced techniques like interpolation.\n",
        "\n",
        "2. **Dealing with Outliers:** Identify and handle outliers, which are data points significantly different from the rest of the dataset. Outliers can be removed or transformed to improve model performance.\n",
        "\n",
        "3. **Data Validation:** Check for data integrity and consistency. Ensure that data types are correct, categorical variables have consistent labels, and numerical values fall within expected ranges.\n",
        "\n",
        "4. **Removing Duplicates:** Identify and remove duplicate rows, as they can skew the model's training process and evaluation metrics.\n",
        "\n",
        "5. **Feature Engineering**: Create new features or modify existing ones to extract relevant information. This step can involve scaling, normalizing, or encoding features for better model interpretability.\n"
      ]
    },
    {
      "cell_type": "markdown",
      "metadata": {
        "id": "_wruGao9LfHZ"
      },
      "source": [
        "### I. Handling Missing Data\n",
        "\n",
        "Missing data can adversely affect the performance and accuracy of machine learning models. There are several strategies to handle missing data in machine learning:\n",
        "\n",
        "1. **Data Imputation:**\n",
        "\n",
        "   a. **Mean, Median, or Mode Imputation:** For numerical features, you can replace missing values with the mean, median, or mode of the non-missing values in the same feature. This method is simple and often effective when data is missing at random.\n",
        "\n",
        "   b. **Constant Value Imputation:** You can replace missing values with a predefined constant value (e.g., 0) if it makes sense for your dataset and problem.\n",
        "\n",
        "   c. **Imputation Using Predictive Models:** More advanced techniques involve using predictive models to estimate missing values. For example, you can train a regression model to predict missing numerical values or a classification model to predict missing categorical values.\n",
        "\n",
        "2. **Deletion of Missing Data:**\n",
        "\n",
        "   a. **Listwise Deletion:** In cases where the amount of missing data is relatively small, you can simply remove rows with missing values from your dataset. However, this approach can lead to a loss of valuable information.\n",
        "\n",
        "   b. **Column (Feature) Deletion:** If a feature has a large number of missing values and is not critical for your analysis, you can consider removing that feature altogether.\n",
        "\n",
        "3. **Domain-Specific Strategies:**\n",
        "\n",
        "   a. **Domain Knowledge:** In some cases, domain knowledge can guide the imputation process. For example, if you know that missing values are related to a specific condition, you can impute them accordingly.\n",
        "\n",
        "4. **Imputation Libraries:**\n",
        "\n",
        "   a. **Scikit-Learn:** Scikit-Learn provides a `SimpleImputer` class that can handle basic imputation strategies like mean, median, and mode imputation.\n",
        "\n",
        "   b. **Fancyimpute:** Fancyimpute is a Python library that offers more advanced imputation techniques, including matrix factorization, k-nearest neighbors, and deep learning-based methods.\n",
        "\n",
        "The choice of imputation method should be guided by the nature of your data, the amount of missing data, the problem you are trying to solve, and the assumptions you are willing to make.\n"
      ]
    },
    {
      "cell_type": "code",
      "execution_count": 81,
      "metadata": {
        "colab": {
          "base_uri": "https://localhost:8080/"
        },
        "id": "BKRoeLdMRxY0",
        "outputId": "ceb74ea6-c158-4405-b063-292471b1f600"
      },
      "outputs": [
        {
          "name": "stdout",
          "output_type": "stream",
          "text": [
            "Percentage of missing values per column:\n",
            " id                             0.000000\n",
            "URLLength                     43.195071\n",
            "DomainLength                  33.010158\n",
            "IsDomainIP                    30.033920\n",
            "TLD                           32.323745\n",
            "CharContinuationRate          34.149729\n",
            "TLDLegitimateProb             37.655689\n",
            "URLCharProb                   37.083233\n",
            "TLDLength                     33.970781\n",
            "NoOfSubDomain                 31.226908\n",
            "HasObfuscation                46.739314\n",
            "NoOfObfuscatedChar            47.579748\n",
            "ObfuscationRatio              45.832999\n",
            "NoOfLettersInURL              45.112755\n",
            "LetterRatioInURL              46.890664\n",
            "NoOfDegitsInURL               41.860527\n",
            "DegitRatioInURL               38.232597\n",
            "NoOfEqualsInURL               43.815603\n",
            "NoOfQMarkInURL                31.433455\n",
            "NoOfAmpersandInURL            32.335319\n",
            "NoOfOtherSpecialCharsInURL    33.871068\n",
            "SpacialCharRatioInURL         44.695209\n",
            "IsHTTPS                       35.208283\n",
            "LineOfCode                    49.250821\n",
            "LargestLineLength             48.408607\n",
            "HasTitle                      31.660479\n",
            "DomainTitleMatchScore         35.644525\n",
            "URLTitleMatchScore            37.227460\n",
            "HasFavicon                    41.607685\n",
            "Robots                        33.389422\n",
            "IsResponsive                  30.263615\n",
            "NoOfURLRedirect               48.008867\n",
            "NoOfSelfRedirect              47.561052\n",
            "HasDescription                38.864703\n",
            "NoOfPopup                     30.894830\n",
            "NoOfiFrame                    35.516323\n",
            "HasExternalFormSubmit         39.588508\n",
            "HasSocialNet                  48.398814\n",
            "HasSubmitButton               43.834299\n",
            "HasHiddenFields               31.089804\n",
            "HasPasswordField              47.282391\n",
            "Bank                          39.162950\n",
            "Pay                           30.690063\n",
            "Crypto                        35.775398\n",
            "HasCopyrightInfo              47.967914\n",
            "NoOfImage                     35.846621\n",
            "NoOfCSS                       47.760476\n",
            "NoOfJS                        43.325054\n",
            "NoOfSelfRef                   34.245880\n",
            "NoOfEmptyRef                  30.404281\n",
            "NoOfExternalRef               49.454698\n",
            "label                          0.000000\n",
            "dtype: float64\n"
          ]
        }
      ],
      "source": [
        "# Check the percentage of missing values per column\n",
        "missing_values = train_data.isnull().mean() * 100\n",
        "print(\"Percentage of missing values per column:\\n\", missing_values)"
      ]
    },
    {
      "cell_type": "code",
      "execution_count": 82,
      "metadata": {
        "id": "kE7F7zIXilHG"
      },
      "outputs": [],
      "source": [
        "# Split numerical and categorical variables\n",
        "num_feat_train = train_data.select_dtypes(include=['int', 'float'])\n",
        "cat_feat_train = train_data.select_dtypes(include=['object'])\n",
        "\n",
        "num_feat_val = val_data.select_dtypes(include=['int', 'float'])\n",
        "cat_feat_val = val_data.select_dtypes(include=['object'])"
      ]
    },
    {
      "cell_type": "markdown",
      "metadata": {
        "id": "88P0CsJtU6Gf"
      },
      "source": [
        "#### Feature Imputation - Mean & Most Frequent Imputation\n"
      ]
    },
    {
      "cell_type": "code",
      "execution_count": 83,
      "metadata": {
        "id": "ucZNfCkiLfHZ"
      },
      "outputs": [],
      "source": [
        "class FeatureImputer(BaseEstimator, TransformerMixin):\n",
        "    #X parameter = data frame\n",
        "    def fit(self, X, y=None):\n",
        "\n",
        "\n",
        "        # Separate numerical and categorical features\n",
        "        self.num_columns = X.select_dtypes(include=['int', 'float']).columns\n",
        "        self.cat_columns = X.select_dtypes(include=['object']).columns\n",
        "\n",
        "        # Input meean untuk missing data numerical\n",
        "        self.num_imputer = SimpleImputer(strategy='mean')\n",
        "        self.num_imputer.fit(X[self.num_columns])\n",
        "\n",
        "        # Imputer for categorical columns\n",
        "        self.cat_imputer = SimpleImputer(strategy='most_frequent')\n",
        "        self.cat_imputer.fit(X[self.cat_columns])\n",
        "\n",
        "        return self\n",
        "\n",
        "    def transform(self, X):\n",
        "\n",
        "        X_imputed = X.copy()\n",
        "\n",
        "        # Impute numerical columns\n",
        "        X_imputed[self.num_columns] = self.num_imputer.transform(X_imputed[self.num_columns])\n",
        "\n",
        "        # Impute categorical columns\n",
        "        X_imputed[self.cat_columns] = self.cat_imputer.transform(X_imputed[self.cat_columns])\n",
        "\n",
        "        return X_imputed"
      ]
    },
    {
      "cell_type": "markdown",
      "metadata": {
        "id": "zgrSMcK75VY_"
      },
      "source": [
        "### II. Dealing with Outliers\n",
        "\n",
        "Outliers are data points that significantly differ from the majority of the data. They can be unusually high or low values that do not fit the pattern of the rest of the dataset. Outliers can significantly impact model performance, so it is important to handle them properly.\n",
        "\n",
        "Some methods to handle outliers:\n",
        "\n",
        "1. **Imputation**: Replace with mean, median, or a boundary value.\n",
        "2. **Clipping**: Cap values to upper and lower limits.\n",
        "3. **Transformation**: Use log, square root, or power transformations to reduce their influence.\n",
        "4. **Model-Based**: Use algorithms robust to outliers (e.g., tree-based models, Huber regression).\n"
      ]
    },
    {
      "cell_type": "code",
      "execution_count": 84,
      "metadata": {
        "id": "twNzKsVsii4Z"
      },
      "outputs": [],
      "source": [
        "# Cap the values of outliers (clip them to lower and upper bounds)\n",
        "def cap_outlier (data, numerical_columns):\n",
        "  for col in numerical_columns:\n",
        "      # Calculate the first (Q1) and third (Q3) quartiles for each column\n",
        "      Q1 = data[col].quantile(0.25)\n",
        "      Q3 = data[col].quantile(0.75)\n",
        "\n",
        "      # Compute the Interquartile Range (IQR)\n",
        "      IQR = Q3 - Q1\n",
        "\n",
        "      # Determine the lower and upper bounds for outliers\n",
        "      lower_bound = Q1 - 1.5 * IQR\n",
        "      upper_bound = Q3 + 1.5 * IQR\n",
        "\n",
        "      # Cap the values to the bounds by replacing it\n",
        "      data[col] = data[col].clip(lower=lower_bound, upper=upper_bound)\n",
        "\n",
        "  return data"
      ]
    },
    {
      "cell_type": "code",
      "execution_count": 85,
      "metadata": {
        "colab": {
          "base_uri": "https://localhost:8080/"
        },
        "id": "48qHOMt8D7qE",
        "outputId": "c7d5dab3-fd93-4583-ac09-71b9d9ed15a6"
      },
      "outputs": [
        {
          "name": "stdout",
          "output_type": "stream",
          "text": [
            "[1 0]\n"
          ]
        }
      ],
      "source": [
        "unique_values =train_data['label'].unique()\n",
        "print(unique_values)"
      ]
    },
    {
      "cell_type": "code",
      "execution_count": 86,
      "metadata": {
        "id": "Xtvp_1tAvbWl"
      },
      "outputs": [],
      "source": [
        "# Remove 'label' column from the list of numerical features\n",
        "num_feat_train_filtered = [col for col in num_feat_train.columns.tolist() if col != 'label']\n",
        "num_feat_val_filtered = [col for col in num_feat_val.columns.tolist() if col != 'label']\n",
        "\n",
        "# Apply outlier capping\n",
        "train_data_capped = cap_outlier(train_data, num_feat_train_filtered)\n",
        "val_data_capped = cap_outlier(val_data, num_feat_val_filtered)\n"
      ]
    },
    {
      "cell_type": "code",
      "execution_count": 87,
      "metadata": {
        "colab": {
          "base_uri": "https://localhost:8080/"
        },
        "id": "K-eq13LUD2e8",
        "outputId": "bdf44145-5ac0-4dd8-82fc-b8bce4bd9471"
      },
      "outputs": [
        {
          "name": "stdout",
          "output_type": "stream",
          "text": [
            "[1 0]\n"
          ]
        }
      ],
      "source": [
        "unique_values =train_data_capped['label'].unique()\n",
        "print(unique_values)"
      ]
    },
    {
      "cell_type": "code",
      "execution_count": null,
      "metadata": {
        "colab": {
          "base_uri": "https://localhost:8080/",
          "height": 1000
        },
        "collapsed": true,
        "id": "idOsmNETiz7U",
        "outputId": "55fe5baf-a9a4-4521-e6e8-33f17d7177d2"
      },
      "outputs": [],
      "source": [
        "# Plot boxplots for each numerical column\n",
        "numerical_columns = train_data_capped.select_dtypes(include=[np.number]).columns.tolist()\n",
        "\n",
        "# Calculate number of rows and columns needed for the grid based on the number of columns\n",
        "n_cols = 3  # Number of columns in the grid\n",
        "n_rows = (len(numerical_columns) // n_cols) + int(len(numerical_columns) % n_cols > 0)\n",
        "\n",
        "# Create the subplots dynamically\n",
        "plt.figure(figsize=(15, 5 * n_rows))\n",
        "for i, col in enumerate(numerical_columns):\n",
        "    plt.subplot(n_rows, n_cols, i + 1)  # Adjust the grid size dynamically\n",
        "    sns.boxplot(x=train_data[col])\n",
        "    plt.title(f'Boxplot of {col}')\n",
        "plt.tight_layout()\n",
        "plt.show()"
      ]
    },
    {
      "cell_type": "markdown",
      "metadata": {
        "id": "aO0ZEZ-s6Lu-"
      },
      "source": [
        "### III. Remove Duplicates\n",
        "\n",
        "Handling duplicate values is crucial because they can compromise data integrity, leading to inaccurate analysis and insights. Duplicate entries can bias machine learning models, causing overfitting and reducing their ability to generalize to new data. They also inflate the dataset size unnecessarily, increasing computational costs and processing times. Additionally, duplicates can distort statistical measures and lead to inconsistencies, ultimately affecting the reliability of data-driven decisions and reporting. Ensuring data quality by removing duplicates is essential for accurate, efficient, and consistent analysis.\n"
      ]
    },
    {
      "cell_type": "code",
      "execution_count": 88,
      "metadata": {
        "colab": {
          "base_uri": "https://localhost:8080/"
        },
        "id": "BHCkkZ-v7iF8",
        "outputId": "fc6ceacf-98fa-4238-93f8-10a2fb3e4ed6"
      },
      "outputs": [
        {
          "name": "stdout",
          "output_type": "stream",
          "text": [
            "train_set: (112323, 52), val_set: (28081, 52)\n"
          ]
        }
      ],
      "source": [
        "train_data_rem_dup = train_data_capped.drop_duplicates()\n",
        "val_data_rem_dup = val_data_capped.drop_duplicates()\n",
        "\n",
        "print(f'train_set: {train_data_rem_dup.shape}, val_set: {val_data_rem_dup.shape}')"
      ]
    },
    {
      "cell_type": "markdown",
      "metadata": {
        "id": "eycPASmMLfHa"
      },
      "source": [
        "### IV. Feature Engineering\n",
        "\n",
        "**Feature engineering** involves creating new features (input variables) or transforming existing ones to improve the performance of machine learning models. Feature engineering aims to enhance the model's ability to learn patterns and make accurate predictions from the data. It's often said that \"good features make good models.\"\n",
        "\n",
        "1. **Feature Selection:** Feature engineering can involve selecting the most relevant and informative features from the dataset. Removing irrelevant or redundant features not only simplifies the model but also reduces the risk of overfitting.\n",
        "\n",
        "2. **Creating New Features:** Sometimes, the existing features may not capture the underlying patterns effectively. In such cases, engineers create new features that provide additional information. For example:\n",
        "\n",
        "   - **Polynomial Features:** Engineers may create new features by taking the square, cube, or other higher-order terms of existing numerical features. This can help capture nonlinear relationships.\n",
        "\n",
        "   - **Interaction Features:** Interaction features are created by combining two or more existing features. For example, if you have features \"length\" and \"width,\" you can create an \"area\" feature by multiplying them.\n",
        "\n",
        "3. **Binning or Discretization:** Continuous numerical features can be divided into bins or categories. For instance, age values can be grouped into bins like \"child,\" \"adult,\" and \"senior.\"\n",
        "\n",
        "4. **Domain-Specific Feature Engineering:** Depending on the domain and problem, engineers may create domain-specific features. For example, in fraud detection, features related to transaction history and user behavior may be engineered to identify anomalies.\n",
        "\n",
        "Feature engineering is both a creative and iterative process. It requires a deep understanding of the data, domain knowledge, and experimentation to determine which features will enhance the model's predictive power.\n"
      ]
    },
    {
      "cell_type": "markdown",
      "metadata": {
        "id": "wQJFH5IOVG5k"
      },
      "source": [
        "#### Feature Selection\n"
      ]
    },
    {
      "cell_type": "code",
      "execution_count": 89,
      "metadata": {
        "colab": {
          "base_uri": "https://localhost:8080/"
        },
        "id": "Lr9FZX3HVpkU",
        "outputId": "6e37f05c-967e-4b58-a37b-a39ed37816aa"
      },
      "outputs": [
        {
          "name": "stdout",
          "output_type": "stream",
          "text": [
            "TLD\n",
            "com    38309\n",
            "org     8750\n",
            "uk      3190\n",
            "net     2236\n",
            "de      1753\n",
            "au      1354\n",
            "jp      1022\n",
            "edu     1006\n",
            "it       899\n",
            "nl       824\n",
            "Name: count, dtype: int64\n",
            "Index(['com', 'org', 'uk', 'net', 'de', 'au', 'jp', 'edu', 'it', 'nl'], dtype='object', name='TLD')\n",
            "Total unique TLDs: 469\n"
          ]
        }
      ],
      "source": [
        "#10 most frequent nilai tld\n",
        "n_tld = 10\n",
        "most_freq_tld = train_data['TLD'].value_counts()[:n_tld].index\n",
        "print(train_data['TLD'].value_counts()[:n_tld])\n",
        "print(most_freq_tld)\n",
        "unique_tlds = train_data['TLD'].nunique()\n",
        "print(f\"Total unique TLDs: {unique_tlds}\")\n",
        "\n",
        "#Recategorize tld untuk menganalisis nilai tld\n",
        "def recategorize_tld(tld):\n",
        "    if tld in most_freq_tld:\n",
        "        return tld\n",
        "    else:\n",
        "        return 'Others'"
      ]
    },
    {
      "cell_type": "markdown",
      "metadata": {
        "id": "Gvk8LXlyn1X5"
      },
      "source": [
        "TLD mempunyai high cardinality yang dapat mengurangi efisiensi memori dan model mempelajari pattern yang terlalu spesifik\n"
      ]
    },
    {
      "cell_type": "markdown",
      "metadata": {
        "id": "55EC-xJZ_0kz"
      },
      "source": [
        "### Feature Creation\n"
      ]
    },
    {
      "cell_type": "code",
      "execution_count": 90,
      "metadata": {
        "id": "OOKWtFVsnFuV"
      },
      "outputs": [],
      "source": [
        "#Pipeline method\n",
        "class FeatureCreator(BaseEstimator, TransformerMixin):\n",
        "    def fit(self, X, y=None):\n",
        "        return self\n",
        "\n",
        "    def transform(self, X):\n",
        "        X_transformed = X.copy()\n",
        "\n",
        "        # Apply the external recategorization function to 'TLD' columns\n",
        "        X_transformed['TLD'] = X_transformed['TLD'].apply(recategorize_tld)\n",
        "\n",
        "        # Derived features\n",
        "        X_transformed['URL_to_Domain_Length_Ratio'] = X_transformed['URLLength'] / X_transformed['DomainLength']\n",
        "        X_transformed['Letters_to_URLLength_Ratio'] = X_transformed['NoOfLettersInURL'] / X_transformed['URLLength']\n",
        "        X_transformed['Digits_to_URLLength_Ratio'] = X_transformed['NoOfDegitsInURL'] / X_transformed['URLLength']\n",
        "        X_transformed['SpecialChar_to_URLLength_Ratio'] = X_transformed['SpacialCharRatioInURL'] / X_transformed['URLLength']\n",
        "\n",
        "        # Binary features\n",
        "        X_transformed['HasRedirects'] = X_transformed['NoOfURLRedirect'] > 0\n",
        "        X_transformed['HasPopup'] = X_transformed['NoOfPopup'] > 0\n",
        "        X_transformed['HasExternalReferences'] = X_transformed['NoOfExternalRef'] > 0\n",
        "\n",
        "        # Combined features\n",
        "        X_transformed['ObfuscationIndicator'] = X_transformed['HasObfuscation'] * X_transformed['ObfuscationRatio']\n",
        "        X_transformed['SecurityFeatureScore'] = (\n",
        "            X_transformed['IsHTTPS'] * 1.5 +\n",
        "            X_transformed['HasPasswordField'] +\n",
        "            X_transformed['HasSubmitButton']\n",
        "        )\n",
        "\n",
        "        return X_transformed"
      ]
    },
    {
      "cell_type": "markdown",
      "metadata": {
        "id": "xw11_49xLfHb"
      },
      "source": [
        "## B. Data Preprocessing\n",
        "\n",
        "**Data preprocessing** is a broader step that encompasses both data cleaning and additional transformations to make the data suitable for machine learning algorithms. Its primary goals are:\n",
        "\n",
        "1. **Feature Scaling:** Ensure that numerical features have similar scales. Common techniques include Min-Max scaling (scaling to a specific range) or standardization (mean-centered, unit variance).\n",
        "\n",
        "2. **Encoding Categorical Variables:** Machine learning models typically work with numerical data, so categorical variables need to be encoded. This can be done using one-hot encoding, label encoding, or more advanced methods like target encoding.\n",
        "\n",
        "3. **Handling Imbalanced Classes:** If dealing with imbalanced classes in a binary classification task, apply techniques such as oversampling, undersampling, or using different evaluation metrics to address class imbalance.\n",
        "\n",
        "4. **Dimensionality Reduction:** Reduce the number of features using techniques like Principal Component Analysis (PCA) or feature selection to simplify the model and potentially improve its performance.\n",
        "\n",
        "5. **Normalization:** Normalize data to achieve a standard distribution. This is particularly important for algorithms that assume normally distributed data.\n"
      ]
    },
    {
      "cell_type": "markdown",
      "metadata": {
        "id": "rVyVnA1hLfHd"
      },
      "source": [
        "### Notes on Preprocessing processes\n",
        "\n",
        "It is advised to create functions or classes that have the same/similar type of inputs and outputs, so you can add, remove, or swap the order of the processes easily. You can implement the functions or classes by yourself\n",
        "\n",
        "or\n",
        "\n",
        "use `sklearn` library. To create a new preprocessing component in `sklearn`, implement a corresponding class that includes:\n",
        "\n",
        "1. Inheritance to `BaseEstimator` and `TransformerMixin`\n",
        "2. The method `fit`\n",
        "3. The method `transform`\n"
      ]
    },
    {
      "cell_type": "code",
      "execution_count": 119,
      "metadata": {
        "id": "WbxHt-5eKz_I"
      },
      "outputs": [],
      "source": [
        "# Example\n",
        "\n",
        "# from sklearn.base import BaseEstimator, TransformerMixin\n",
        "\n",
        "# class FeatureEncoder(BaseEstimator, TransformerMixin):\n",
        "\n",
        "#     def fit(self, X, y=None):\n",
        "\n",
        "#         # Fit the encoder here\n",
        "\n",
        "#         return self\n",
        "\n",
        "#     def transform(self, X):\n",
        "#         X_encoded = X.copy()\n",
        "\n",
        "#         # Encode the categorical variables here\n",
        "\n",
        "#         return X_encoded"
      ]
    },
    {
      "cell_type": "markdown",
      "metadata": {
        "id": "WhCgOl4xLfHb"
      },
      "source": [
        "### I. Feature Scaling\n",
        "\n",
        "**Feature scaling** is a preprocessing technique used in machine learning to standardize the range of independent variables or features of data. The primary goal of feature scaling is to ensure that all features contribute equally to the training process and that machine learning algorithms can work effectively with the data.\n",
        "\n",
        "Here are the main reasons why feature scaling is important:\n",
        "\n",
        "1. **Algorithm Sensitivity:** Many machine learning algorithms are sensitive to the scale of input features. If the scales of features are significantly different, some algorithms may perform poorly or take much longer to converge.\n",
        "\n",
        "2. **Distance-Based Algorithms:** Algorithms that rely on distances or similarities between data points, such as k-nearest neighbors (KNN) and support vector machines (SVM), can be influenced by feature scales. Features with larger scales may dominate the distance calculations.\n",
        "\n",
        "3. **Regularization:** Regularization techniques, like L1 (Lasso) and L2 (Ridge) regularization, add penalty terms based on feature coefficients. Scaling ensures that all features are treated equally in the regularization process.\n",
        "\n",
        "Common methods for feature scaling include:\n",
        "\n",
        "1. **Min-Max Scaling (Normalization):** This method scales features to a specific range, typically [0, 1]. It's done using the following formula:\n",
        "\n",
        "   $$X' = \\frac{X - X_{min}}{X_{max} - X_{min}}$$\n",
        "\n",
        "   - Here, $X$ is the original feature value, $X_{min}$ is the minimum value of the feature, and $X_{max}$ is the maximum value of the feature.  \n",
        "     <br />\n",
        "     <br />\n",
        "\n",
        "2. **Standardization (Z-score Scaling):** This method scales features to have a mean (average) of 0 and a standard deviation of 1. It's done using the following formula:\n",
        "\n",
        "   $$X' = \\frac{X - \\mu}{\\sigma}$$\n",
        "\n",
        "   - $X$ is the original feature value, $\\mu$ is the mean of the feature, and $\\sigma$ is the standard deviation of the feature.  \n",
        "     <br />\n",
        "     <br />\n",
        "\n",
        "3. **Robust Scaling:** Robust scaling is a method that scales features to the interquartile range (IQR) and is less affected by outliers. It's calculated as:\n",
        "\n",
        "   $$X' = \\frac{X - Q1}{Q3 - Q1}$$\n",
        "\n",
        "   - $X$ is the original feature value, $Q1$ is the first quartile (25th percentile), and $Q3$ is the third quartile (75th percentile) of the feature.  \n",
        "     <br />\n",
        "     <br />\n",
        "\n",
        "4. **Log Transformation:** In cases where data is highly skewed or has a heavy-tailed distribution, taking the logarithm of the feature values can help stabilize the variance and improve scaling.\n",
        "\n",
        "The choice of scaling method depends on the characteristics of your data and the requirements of your machine learning algorithm. **Min-max scaling and standardization are the most commonly used techniques and work well for many datasets.**\n",
        "\n",
        "Scaling should be applied separately to each training and test set to prevent data leakage from the test set into the training set. Additionally, **some algorithms may not require feature scaling, particularly tree-based models.**\n"
      ]
    },
    {
      "cell_type": "code",
      "execution_count": 91,
      "metadata": {
        "id": "COef9EbCLfHb"
      },
      "outputs": [],
      "source": [
        "\n",
        "# Write your code here\n",
        "class FeatureScaler(BaseEstimator, TransformerMixin):\n",
        "    def __init__(self, method=\"standard\"):\n",
        "        \"\"\"\n",
        "        Initialize the FeatureScaling class.\n",
        "\n",
        "        Parameters:\n",
        "        - method: str, the scaling method to use. Options are 'minmax', 'standard', or 'robust'.\n",
        "        \"\"\"\n",
        "        self.method = method\n",
        "        self.scaler = None\n",
        "\n",
        "    def fit(self, X, y=None):\n",
        "        \"\"\"\n",
        "        Fit the scaler to the data.\n",
        "\n",
        "        Parameters:\n",
        "        - X: DataFrame, the input data to fit the scaler.\n",
        "        - y: Ignored, for compatibility with scikit-learn pipelines.\n",
        "\n",
        "        Returns:\n",
        "        - self: The fitted FeatureScaling instance.\n",
        "        \"\"\"\n",
        "        if self.method == \"minmax\":\n",
        "            self.scaler = MinMaxScaler()\n",
        "        elif self.method == \"standard\":\n",
        "            self.scaler = StandardScaler()\n",
        "        elif self.method == \"robust\":\n",
        "            self.scaler = RobustScaler()\n",
        "        else:\n",
        "            raise ValueError(\"Invalid method. Choose from 'minmax', 'standard', or 'robust'.\")\n",
        "\n",
        "        self.scaler.fit(X)\n",
        "        return self\n",
        "\n",
        "    def transform(self, X):\n",
        "        \"\"\"\n",
        "        Transform the data using the fitted scaler.\n",
        "\n",
        "        Parameters:\n",
        "        - X: DataFrame, the input data to scale.\n",
        "\n",
        "        Returns:\n",
        "        - X_scaled: DataFrame, the scaled data.\n",
        "        \"\"\"\n",
        "        X_scaled = pd.DataFrame(\n",
        "            self.scaler.transform(X),\n",
        "            columns=X.columns,\n",
        "            index=X.index\n",
        "        )\n",
        "        return X_scaled"
      ]
    },
    {
      "cell_type": "markdown",
      "metadata": {
        "id": "f_Lh-4JwLfHc"
      },
      "source": [
        "### II. Feature Encoding\n",
        "\n",
        "**Feature encoding**, also known as **categorical encoding**, is the process of converting categorical data (non-numeric data) into a numerical format so that it can be used as input for machine learning algorithms. Most machine learning models require numerical data for training and prediction, so feature encoding is a critical step in data preprocessing.\n",
        "\n",
        "Categorical data can take various forms, including:\n",
        "\n",
        "1. **Nominal Data:** Categories with no intrinsic order, like colors or country names.\n",
        "\n",
        "2. **Ordinal Data:** Categories with a meaningful order but not necessarily equidistant, like education levels (e.g., \"high school,\" \"bachelor's,\" \"master's\").\n",
        "\n",
        "There are several common methods for encoding categorical data:\n",
        "\n",
        "1. **Label Encoding:**\n",
        "\n",
        "   - Label encoding assigns a unique integer to each category in a feature.\n",
        "   - It's suitable for ordinal data where there's a clear order among categories.\n",
        "   - For example, if you have an \"education\" feature with values \"high school,\" \"bachelor's,\" and \"master's,\" you can encode them as 0, 1, and 2, respectively.\n",
        "     <br />\n",
        "     <br />\n",
        "\n",
        "2. **One-Hot Encoding:**\n",
        "\n",
        "   - One-hot encoding creates a binary (0 or 1) column for each category in a nominal feature.\n",
        "   - It's suitable for nominal data where there's no inherent order among categories.\n",
        "   - Each category becomes a new feature, and the presence (1) or absence (0) of a category is indicated for each row.\n",
        "     <br />\n",
        "     <br />\n",
        "\n",
        "3. **Target Encoding (Mean Encoding):**\n",
        "\n",
        "   - Target encoding replaces each category with the mean of the target variable for that category.\n",
        "   - It's often used for classification problems.\n"
      ]
    },
    {
      "cell_type": "code",
      "execution_count": 92,
      "metadata": {
        "id": "psElSUugLfHc"
      },
      "outputs": [],
      "source": [
        "# Create custom encoder class\n",
        "class FeatureEncoder(BaseEstimator, TransformerMixin):\n",
        "\n",
        "    def fit(self, X, y=None):\n",
        "        return self\n",
        "\n",
        "    def transform(self, X):\n",
        "        X_encoded = X.copy()\n",
        "\n",
        "        # Get a list of object (categorical) columns, including 'TLD'\n",
        "        cat_cols = X_encoded.select_dtypes(include=['object']).columns\n",
        "        cat_cols = [col for col in cat_cols if col != 'id']  # Exclude 'id'\n",
        "\n",
        "        # One-hot encode all categorical columns\n",
        "        for col in cat_cols:\n",
        "            X_encoded = pd.concat([X_encoded, pd.get_dummies(X_encoded[col], prefix=col)], axis=1)\n",
        "            X_encoded.drop(col, axis=1, inplace=True)  # Drop original column\n",
        "\n",
        "        return X_encoded"
      ]
    },
    {
      "cell_type": "markdown",
      "metadata": {
        "id": "jKQO9wtB8Pc0"
      },
      "source": [
        "### III. Handling Imbalanced Dataset\n",
        "\n",
        "**Handling imbalanced datasets** is important because imbalanced data can lead to several issues that negatively impact the performance and reliability of machine learning models. Here are some key reasons:\n",
        "\n",
        "1. **Biased Model Performance**:\n",
        "\n",
        "- Models trained on imbalanced data tend to be biased towards the majority class, leading to poor performance on the minority class. This can result in misleading accuracy metrics.\n",
        "\n",
        "2. **Misleading Accuracy**:\n",
        "\n",
        "- High overall accuracy can be misleading in imbalanced datasets. For example, if 95% of the data belongs to one class, a model that always predicts the majority class will have 95% accuracy but will fail to identify the minority class.\n",
        "\n",
        "3. **Poor Generalization**:\n",
        "\n",
        "- Models trained on imbalanced data may not generalize well to new, unseen data, especially if the minority class is underrepresented.\n",
        "\n",
        "Some methods to handle imbalanced datasets:\n",
        "\n",
        "1. **Resampling Methods**:\n",
        "\n",
        "- Oversampling: Increase the number of instances in the minority class by duplicating or generating synthetic samples (e.g., SMOTE).\n",
        "- Undersampling: Reduce the number of instances in the majority class to balance the dataset.\n",
        "\n",
        "2. **Evaluation Metrics**:\n",
        "\n",
        "- Use appropriate evaluation metrics such as precision, recall, F1-score, ROC-AUC, and confusion matrix instead of accuracy to better assess model performance on imbalanced data.\n",
        "\n",
        "3. **Algorithmic Approaches**:\n",
        "\n",
        "- Use algorithms that are designed to handle imbalanced data, such as decision trees, random forests, or ensemble methods.\n",
        "- Adjust class weights in algorithms to give more importance to the minority class.\n"
      ]
    },
    {
      "cell_type": "code",
      "execution_count": 93,
      "metadata": {
        "id": "u2BQd2XJ9W1i"
      },
      "outputs": [],
      "source": [
        "def balance_classes(X_t, y_t):\n",
        "    # Print the class distribution before applying SMOTE\n",
        "    print(\"Class distribution before SMOTE:\")\n",
        "    print(y_t.value_counts())\n",
        "\n",
        "    sm = SMOTE(random_state=42)\n",
        "\n",
        "    # Ensure both classes are present\n",
        "    if y_t.value_counts().min() == 0:\n",
        "        raise ValueError(\"The target variable must contain both classes before applying SMOTE.\")\n",
        "\n",
        "    X_t_res, y_t_res = sm.fit_resample(X_t, y_t)\n",
        "\n",
        "    # Print the class distribution after resampling\n",
        "    print(\"Class distribution after SMOTE:\")\n",
        "    print(pd.Series(y_t_res).value_counts())\n",
        "\n",
        "    return X_t_res, y_t_res\n"
      ]
    },
    {
      "cell_type": "markdown",
      "metadata": {
        "id": "-ctVzt5DLfHd"
      },
      "source": [
        "# 3. Compile Preprocessing Pipeline\n",
        "\n",
        "All of the preprocessing classes or functions defined earlier will be compiled in this step.\n"
      ]
    },
    {
      "cell_type": "markdown",
      "metadata": {
        "id": "S_ZlncSVjJG6"
      },
      "source": [
        "If you use sklearn to create preprocessing classes, you can list your preprocessing classes in the Pipeline object sequentially, and then fit and transform your data.\n"
      ]
    },
    {
      "cell_type": "code",
      "execution_count": 94,
      "metadata": {
        "id": "jHraoW_7LfHd"
      },
      "outputs": [],
      "source": [
        "# Note: You can add or delete preprocessing components from this pipeline\n",
        "\n",
        "pipe = Pipeline([(\"imputer\", FeatureImputer()),\n",
        "                 (\"featurecreator\", FeatureCreator()),\n",
        "                 (\"encoder\", FeatureEncoder()), # Moved FeatureEncoder before FeatureScaler\n",
        "                 (\"scaler\", FeatureScaler())])"
      ]
    },
    {
      "cell_type": "code",
      "execution_count": 95,
      "metadata": {
        "colab": {
          "base_uri": "https://localhost:8080/"
        },
        "id": "7nSvzdJej1bz",
        "outputId": "a3e34e30-6096-44b4-ff5e-3789ddd03182"
      },
      "outputs": [
        {
          "name": "stderr",
          "output_type": "stream",
          "text": [
            "c:\\Users\\ACER\\AppData\\Local\\Programs\\Python\\Python312\\Lib\\site-packages\\sklearn\\pipeline.py:62: FutureWarning: This Pipeline instance is not fitted yet. Call 'fit' with appropriate arguments before using other methods such as transform, predict, etc. This will raise an error in 1.8 instead of the current warning.\n",
            "  warnings.warn(\n"
          ]
        }
      ],
      "source": [
        "# Now apply transform to the training set\n",
        "train_set = pipe.fit_transform(train_data_rem_dup)\n",
        "\n",
        "# And for the validation set\n",
        "val_set = pipe.transform(val_data_rem_dup)"
      ]
    },
    {
      "cell_type": "markdown",
      "metadata": {
        "id": "SXoCqMztjhr-"
      },
      "source": [
        "or create your own here\n"
      ]
    },
    {
      "cell_type": "code",
      "execution_count": 125,
      "metadata": {
        "id": "7OoZ3oXEj2CW"
      },
      "outputs": [],
      "source": [
        "# Write your code here"
      ]
    },
    {
      "cell_type": "markdown",
      "metadata": {
        "id": "9A3adbZXLfHe"
      },
      "source": [
        "# 4. Modeling and Validation\n",
        "\n",
        "Modelling is the process of building your own machine learning models to solve specific problems, or in this assignment context, predicting the target feature `label`. Validation is the process of evaluating your trained model using the validation set or cross-validation method and providing some metrics that can help you decide what to do in the next iteration of development.\n"
      ]
    },
    {
      "cell_type": "markdown",
      "metadata": {
        "id": "ZnhMNbBILfHf"
      },
      "source": [
        "## A. KNN\n"
      ]
    },
    {
      "cell_type": "code",
      "execution_count": 96,
      "metadata": {
        "id": "KV6ICmFmlqjk"
      },
      "outputs": [],
      "source": [
        "import numpy as np\n",
        "from collections import Counter\n",
        "import logging\n",
        "\n",
        "# Configure logging\n",
        "logging.basicConfig(level=logging.INFO, format='%(asctime)s - %(levelname)s - %(message)s')\n",
        "\n",
        "\n",
        "class KNearestNeighbor:\n",
        "    def __init__(self, verbose=True):\n",
        "        self.best_k = None\n",
        "        self.training_data = None\n",
        "        self.training_labels = None\n",
        "        self.verbose = verbose\n",
        "\n",
        "    def fit(self, X_train, Y_train, max_k=None, num_of_k_values=10):\n",
        "        \"\"\"\n",
        "        Melatih model KNN dengan mencari k optimal menggunakan cross validation\n",
        "        \n",
        "        Parameters:\n",
        "        -----------\n",
        "        X_train : array-like\n",
        "            Data training features\n",
        "        Y_train : array-like\n",
        "            Data training labels\n",
        "        max_k : int, optional\n",
        "            Nilai k maksimum yang akan dicoba\n",
        "        num_of_k_values : int, optional\n",
        "            Jumlah nilai k yang akan dievaluasi\n",
        "        \"\"\"\n",
        "        # Konversi ke numpy array dengan tipe float32 untuk efisiensi memori\n",
        "        X_train = np.array(X_train, dtype=np.float32)\n",
        "        Y_train = np.array(Y_train)\n",
        "        \n",
        "        # Simpan data training\n",
        "        self.training_data = X_train\n",
        "        self.training_labels = Y_train\n",
        "        \n",
        "        # Tentukan max_k jika tidak dispesifikkan\n",
        "        if max_k is None:\n",
        "            max_k = min(int(np.sqrt(len(self.training_data))), 20)\n",
        "        \n",
        "        # Batasi jumlah nilai k yang akan dievaluasi\n",
        "        num_of_k_values = min(num_of_k_values, 10)\n",
        "        \n",
        "        # Generate nilai k yang akan dievaluasi\n",
        "        k_values = np.linspace(1, max_k, num_of_k_values, dtype=int)\n",
        "        k_values = np.unique(k_values)  # Hapus nilai duplikat\n",
        "        \n",
        "        if self.verbose:\n",
        "            logging.info(f\"Evaluating k values: {k_values}\")\n",
        "        \n",
        "        # Inisialisasi cross validation\n",
        "        kf = KFold(n_splits=5, shuffle=True, random_state=42)\n",
        "        cv_scores = {k: [] for k in k_values}\n",
        "        \n",
        "        # Lakukan cross validation untuk setiap nilai k\n",
        "        for fold, (train_idx, val_idx) in enumerate(kf.split(X_train)):\n",
        "            if self.verbose:\n",
        "                logging.info(f\"Processing fold {fold + 1}/5\")\n",
        "            \n",
        "            # Split data untuk cross validation\n",
        "            X_train_fold = X_train[train_idx]\n",
        "            Y_train_fold = Y_train[train_idx]\n",
        "            X_val_fold = X_train[val_idx]\n",
        "            Y_val_fold = Y_train[val_idx]\n",
        "            \n",
        "            # Hitung jarak untuk validation fold\n",
        "            distances = self._compute_distances(X_val_fold, X_train_fold)\n",
        "            \n",
        "            # Evaluasi setiap nilai k\n",
        "            for k in k_values:\n",
        "                # Prediksi menggunakan k tetangga terdekat\n",
        "                predictions = []\n",
        "                for i in range(len(X_val_fold)):\n",
        "                    # Ambil indeks k tetangga terdekat\n",
        "                    nearest_neighbor_ids = np.argsort(distances[i])[:k]\n",
        "                    # Ambil label dari k tetangga terdekat\n",
        "                    k_nearest_labels = Y_train_fold[nearest_neighbor_ids]\n",
        "                    # Prediksi dengan majority voting\n",
        "                    pred = Counter(k_nearest_labels).most_common(1)[0](citation_0)[0](citation_0)\n",
        "                    predictions.append(pred)\n",
        "                \n",
        "                # Hitung akurasi\n",
        "                accuracy = accuracy_score(Y_val_fold, predictions)\n",
        "                cv_scores[k].append(accuracy)\n",
        "        \n",
        "        # Hitung rata-rata akurasi untuk setiap k\n",
        "        mean_cv_scores = {k: np.mean(scores) for k, scores in cv_scores.items()}\n",
        "        \n",
        "        # Pilih k optimal (k dengan akurasi tertinggi)\n",
        "        self.k = max(mean_cv_scores, key=mean_cv_scores.get)\n",
        "        \n",
        "        if self.verbose:\n",
        "            logging.info(f\"Cross validation scores for each k: {mean_cv_scores}\")\n",
        "            logging.info(f\"Selected optimal k: {self.k}\")\n",
        "        \n",
        "        return self\n",
        "\n",
        "\n",
        "    def _compute_distances(self, X_test, train_data):\n",
        "        X_test = np.array(X_test, dtype=np.float32)  # Ubah ke float32\n",
        "        train_data = np.array(train_data, dtype=np.float32)  # Ubah ke float32\n",
        "        \n",
        "        # Implementasi batch processing\n",
        "        batch_size = 1000  # Sesuaikan dengan memori yang tersedia\n",
        "        num_test = X_test.shape[0](citation_0)\n",
        "        num_train = train_data.shape[0](citation_0)\n",
        "        dists = np.zeros((num_test, num_train), dtype=np.float32)\n",
        "        \n",
        "        for i in range(0, num_test, batch_size):\n",
        "            batch_end = min(i + batch_size, num_test)\n",
        "            batch = X_test[i:batch_end]\n",
        "            \n",
        "            # Hitung jarak untuk batch current\n",
        "            try:\n",
        "                dists[i:batch_end] = np.sqrt(\n",
        "                    np.maximum(\n",
        "                        np.sum(batch[:, np.newaxis, :] ** 2, axis=2) +\n",
        "                        np.sum(train_data[np.newaxis, :, :] ** 2, axis=2) -\n",
        "                        2 * np.dot(batch, train_data.T),\n",
        "                        0\n",
        "                    )\n",
        "                )\n",
        "            except ValueError as e:\n",
        "                logging.error(f\"Error in distance computation: {e}\")\n",
        "                logging.error(f\"Batch shape: {batch.shape}, train_data shape: {train_data.shape}\")\n",
        "                raise\n",
        "\n",
        "            if self.verbose:\n",
        "                logging.info(f\"Processed batch {i//batch_size + 1}/{(num_test-1)//batch_size + 1}\")\n",
        "        \n",
        "        if self.verbose:\n",
        "            logging.info(f\"Computed distances with shape: {dists.shape}\")\n",
        "        return dists\n",
        "\n",
        "    def _get_neighbours(self, dists, k):\n",
        "        nearest_indices = np.argpartition(dists, k, axis=1)[:, :k]\n",
        "\n",
        "        if self.verbose:\n",
        "            logging.info(f\"Identified {k} nearest neighbors for each test point\")\n",
        "        return nearest_indices\n",
        "\n",
        "    def _predict_vectorized(self, X_test, train_data=None, train_labels=None, k=None):\n",
        "        train_data = train_data if train_data is not None else self.training_data\n",
        "        train_labels = train_labels if train_labels is not None else self.training_labels\n",
        "\n",
        "        if self.best_k is not None and k is None:\n",
        "            k = self.best_k[0]\n",
        "\n",
        "        if self.verbose:\n",
        "            logging.info(f\"Predicting with k={k}, test data shape: {X_test.shape}\")\n",
        "\n",
        "        dists = self._compute_distances(X_test, train_data)\n",
        "        nearest_indices = self._get_neighbours(dists, k)\n",
        "        nearest_labels = train_labels[nearest_indices]\n",
        "\n",
        "        predictions = [Counter(neighbors).most_common(1)[0][0] for neighbors in nearest_labels]\n",
        "\n",
        "        if self.verbose:\n",
        "            logging.info(f\"Prediction complete for {len(X_test)} test points\")\n",
        "\n",
        "        return np.array(predictions)\n",
        "\n",
        "    def predict(self, X_test, train_data=None, train_labels=None, k=None):\n",
        "        return self._predict_vectorized(X_test, train_data, train_labels, k)"
      ]
    },
    {
      "cell_type": "markdown",
      "metadata": {
        "id": "nW0bMzkDLfHf"
      },
      "source": [
        "## B. Naive Bayes\n"
      ]
    },
    {
      "cell_type": "code",
      "execution_count": 107,
      "metadata": {
        "id": "C_XwsN_-LfHg"
      },
      "outputs": [],
      "source": [
        "class NaiveBayes:\n",
        "    def __init__(self, smoothing=1.0): # untuk cegah probabilitas 0\n",
        "        self.smoothing = smoothing\n",
        "        self.class_priors = {}\n",
        "        self.feature_params = {}\n",
        "        self.classes = None\n",
        "        \n",
        "    def calculate_mean_std(self, X):\n",
        "        mean = np.mean(X, axis=0)\n",
        "        std = np.std(X, axis=0)\n",
        "        min_std = 1e-6\n",
        "        std[std < min_std] = min_std\n",
        "        return mean, std\n",
        "    \n",
        "    def gaussian_probability(self, x, mean, std):\n",
        "        exponent = np.clip(-0.5 * ((x - mean) / std) ** 2, -500, 500)\n",
        "        log_coef = -np.log(std) - 0.5 * np.log(2 * np.pi)\n",
        "        return np.exp(log_coef + exponent)\n",
        "    \n",
        "    def fit(self, X, y):\n",
        "        X = np.array(X, dtype=float)\n",
        "        y = np.array(y)\n",
        "        self.classes = np.unique(y)\n",
        "        n_samples = len(y)\n",
        "        \n",
        "        for i in self.classes:\n",
        "            class_mask = (y == i)\n",
        "            class_samples = X[class_mask]\n",
        "            self.class_priors[i] = (len(class_samples) + self.smoothing) / (n_samples + self.smoothing * len(self.classes))\n",
        "            mean, std = self.calculate_mean_std(class_samples)\n",
        "            self.feature_params[i] = {'mean': mean, 'std': std}\n",
        "    \n",
        "    def predict_proba(self, X):\n",
        "        X = np.array(X, dtype=float)\n",
        "        n_samples = len(X)\n",
        "        probas = np.zeros((n_samples, len(self.classes)))\n",
        "        \n",
        "        for i, x in enumerate(X):\n",
        "            class_probs = []\n",
        "            for j, c in enumerate(self.classes):\n",
        "                log_prob = np.log(self.class_priors[c])\n",
        "                mean = self.feature_params[c]['mean']\n",
        "                std = self.feature_params[c]['std']\n",
        "                feature_probs = self.gaussian_probability(x, mean, std)\n",
        "                log_prob += np.sum(np.log(feature_probs + 1e-10))\n",
        "                probas[i, j] = log_prob\n",
        "            max_log_prob = np.max(probas[i])\n",
        "            probas[i] = np.exp(probas[i] - max_log_prob)\n",
        "            probas[i] /= np.sum(probas[i])\n",
        "        \n",
        "        return probas\n",
        "    \n",
        "    def predict(self, X):\n",
        "        probas = self.predict_proba(X)\n",
        "        return self.classes[np.argmax(probas, axis=1)]\n",
        "    \n",
        "    def score(self, X, y):\n",
        "        return np.mean(self.predict(X) == y)"
      ]
    },
    {
      "cell_type": "markdown",
      "metadata": {
        "id": "LoH2u6fOLfHh"
      },
      "source": [
        "## C. Improvements (Optional)\n",
        "\n",
        "- **Visualize the model evaluation result**\n",
        "\n",
        "This will help you to understand the details more clearly about your model's performance. From the visualization, you can see clearly if your model is leaning towards a class than the others. (Hint: confusion matrix, ROC-AUC curve, etc.)\n",
        "\n",
        "- **Explore the hyperparameters of your models**\n",
        "\n",
        "Each models have their own hyperparameters. And each of the hyperparameter have different effects on the model behaviour. You can optimize the model performance by finding the good set of hyperparameters through a process called **hyperparameter tuning**. (Hint: Grid search, random search, bayesian optimization)\n",
        "\n",
        "- **Cross-validation**\n",
        "\n",
        "Cross-validation is a critical technique in machine learning and data science for evaluating and validating the performance of predictive models. It provides a more **robust** and **reliable** evaluation method compared to a hold-out (single train-test set) validation. Though, it requires more time and computing power because of how cross-validation works. (Hint: k-fold cross-validation, stratified k-fold cross-validation, etc.)\n"
      ]
    },
    {
      "cell_type": "code",
      "execution_count": 138,
      "metadata": {
        "id": "pg-A54yELfHh"
      },
      "outputs": [],
      "source": [
        "# Type your code here"
      ]
    },
    {
      "cell_type": "markdown",
      "metadata": {
        "id": "Li4l53DjLfHh"
      },
      "source": [
        "## D. Submission\n",
        "\n",
        "To predict the test set target feature and submit the results to the kaggle competition platform, do the following:\n",
        "\n",
        "1. Create a new pipeline instance identical to the first in Data Preprocessing\n",
        "2. With the pipeline, apply `fit_transform` to the original training set before splitting, then only apply `transform` to the test set.\n",
        "3. Retrain the model on the preprocessed training set\n",
        "4. Predict the test set\n",
        "5. Make sure the submission contains the `id` and `label` column.\n",
        "\n",
        "Note: Adjust step 1 and 2 to your implementation of the preprocessing step if you don't use pipeline API from `sklearn`.\n"
      ]
    },
    {
      "cell_type": "code",
      "execution_count": 98,
      "metadata": {
        "id": "LeqnfWc-LfHi"
      },
      "outputs": [],
      "source": [
        "# Step 1: Separate features and target from the training set\n",
        "X_train = train_data_rem_dup.drop(columns=['id', 'label'])\n",
        "y_train = train_data_rem_dup['label']\n",
        "\n",
        "# Recreate the preprocessing pipeline\n",
        "submission_pipe = Pipeline([\n",
        "    (\"imputer\", FeatureImputer()),\n",
        "    (\"featurecreator\", FeatureCreator()),\n",
        "    (\"encoder\", FeatureEncoder()),  # Ensure the same order\n",
        "    (\"scaler\", FeatureScaler()),\n",
        "])"
      ]
    },
    {
      "cell_type": "code",
      "execution_count": 99,
      "metadata": {
        "colab": {
          "base_uri": "https://localhost:8080/"
        },
        "id": "Y7ULtZtg5zD5",
        "outputId": "7721d0cf-2238-49e6-ef7a-08de3d338425"
      },
      "outputs": [
        {
          "name": "stdout",
          "output_type": "stream",
          "text": [
            "Class distribution before SMOTE:\n",
            "label\n",
            "1    103880\n",
            "0      8443\n",
            "Name: count, dtype: int64\n",
            "Class distribution after SMOTE:\n",
            "label\n",
            "1    103880\n",
            "0    103880\n",
            "Name: count, dtype: int64\n"
          ]
        },
        {
          "name": "stderr",
          "output_type": "stream",
          "text": [
            "c:\\Users\\ACER\\AppData\\Local\\Programs\\Python\\Python312\\Lib\\site-packages\\sklearn\\pipeline.py:62: FutureWarning: This Pipeline instance is not fitted yet. Call 'fit' with appropriate arguments before using other methods such as transform, predict, etc. This will raise an error in 1.8 instead of the current warning.\n",
            "  warnings.warn(\n"
          ]
        },
        {
          "name": "stdout",
          "output_type": "stream",
          "text": [
            "Validation Accuracy: 0.9588\n"
          ]
        },
        {
          "data": {
            "text/html": [
              "<div>\n",
              "<style scoped>\n",
              "    .dataframe tbody tr th:only-of-type {\n",
              "        vertical-align: middle;\n",
              "    }\n",
              "\n",
              "    .dataframe tbody tr th {\n",
              "        vertical-align: top;\n",
              "    }\n",
              "\n",
              "    .dataframe thead th {\n",
              "        text-align: right;\n",
              "    }\n",
              "</style>\n",
              "<table border=\"1\" class=\"dataframe\">\n",
              "  <thead>\n",
              "    <tr style=\"text-align: right;\">\n",
              "      <th></th>\n",
              "      <th>id</th>\n",
              "      <th>label</th>\n",
              "      <th>predictions</th>\n",
              "    </tr>\n",
              "  </thead>\n",
              "  <tbody>\n",
              "    <tr>\n",
              "      <th>110142</th>\n",
              "      <td>184935</td>\n",
              "      <td>1</td>\n",
              "      <td>1</td>\n",
              "    </tr>\n",
              "    <tr>\n",
              "      <th>8967</th>\n",
              "      <td>14951</td>\n",
              "      <td>1</td>\n",
              "      <td>1</td>\n",
              "    </tr>\n",
              "    <tr>\n",
              "      <th>136488</th>\n",
              "      <td>229147</td>\n",
              "      <td>1</td>\n",
              "      <td>1</td>\n",
              "    </tr>\n",
              "    <tr>\n",
              "      <th>13834</th>\n",
              "      <td>23077</td>\n",
              "      <td>1</td>\n",
              "      <td>1</td>\n",
              "    </tr>\n",
              "    <tr>\n",
              "      <th>75770</th>\n",
              "      <td>126794</td>\n",
              "      <td>1</td>\n",
              "      <td>1</td>\n",
              "    </tr>\n",
              "    <tr>\n",
              "      <th>...</th>\n",
              "      <td>...</td>\n",
              "      <td>...</td>\n",
              "      <td>...</td>\n",
              "    </tr>\n",
              "    <tr>\n",
              "      <th>46841</th>\n",
              "      <td>78346</td>\n",
              "      <td>1</td>\n",
              "      <td>1</td>\n",
              "    </tr>\n",
              "    <tr>\n",
              "      <th>115523</th>\n",
              "      <td>193972</td>\n",
              "      <td>1</td>\n",
              "      <td>1</td>\n",
              "    </tr>\n",
              "    <tr>\n",
              "      <th>74487</th>\n",
              "      <td>124624</td>\n",
              "      <td>1</td>\n",
              "      <td>1</td>\n",
              "    </tr>\n",
              "    <tr>\n",
              "      <th>135352</th>\n",
              "      <td>227255</td>\n",
              "      <td>1</td>\n",
              "      <td>1</td>\n",
              "    </tr>\n",
              "    <tr>\n",
              "      <th>126907</th>\n",
              "      <td>213031</td>\n",
              "      <td>1</td>\n",
              "      <td>1</td>\n",
              "    </tr>\n",
              "  </tbody>\n",
              "</table>\n",
              "<p>28081 rows × 3 columns</p>\n",
              "</div>"
            ],
            "text/plain": [
              "            id  label  predictions\n",
              "110142  184935      1            1\n",
              "8967     14951      1            1\n",
              "136488  229147      1            1\n",
              "13834    23077      1            1\n",
              "75770   126794      1            1\n",
              "...        ...    ...          ...\n",
              "46841    78346      1            1\n",
              "115523  193972      1            1\n",
              "74487   124624      1            1\n",
              "135352  227255      1            1\n",
              "126907  213031      1            1\n",
              "\n",
              "[28081 rows x 3 columns]"
            ]
          },
          "execution_count": 99,
          "metadata": {},
          "output_type": "execute_result"
        }
      ],
      "source": [
        "# Apply the preprocessing pipeline on the training features (X_train)\n",
        "X_train_transformed = submission_pipe.fit_transform(X_train)\n",
        "\n",
        "# Step 2: Balance classes in the training set using SMOTE\n",
        "X_train_balanced, y_train_balanced = balance_classes(X_train_transformed, y_train)\n",
        "\n",
        "# Debugging: Check for unexpected object columns in the balanced training set\n",
        "object_columns = X_train_balanced.select_dtypes(include=['object']).columns\n",
        "if object_columns.any():\n",
        "    print(f\"Unexpected object columns found in training data: {object_columns}\")\n",
        "    raise ValueError(\"Ensure all features are numeric before training.\")\n",
        "\n",
        "# Step 3: Preprocess the validation dataset (transform only, no fitting)\n",
        "X_val = val_data_rem_dup.drop(columns=['id', 'label'])\n",
        "y_val = val_data_rem_dup['label']\n",
        "\n",
        "# Apply the preprocessing pipeline on the validation features (X_val) without fitting\n",
        "X_val_transformed = submission_pipe.transform(X_val)\n",
        "\n",
        "# Step 4: Train the KNN model on the balanced training set\n",
        "knn_model = KNeighborsClassifier(n_neighbors=5)  # Adjust n_neighbors as needed\n",
        "knn_model.fit(X_train_balanced, y_train_balanced)\n",
        "\n",
        "# Step 5: Predict validation set labels\n",
        "val_predictions = knn_model.predict(X_val_transformed)\n",
        "\n",
        "# Step 6: Calculate and print validation accuracy\n",
        "val_accuracy = accuracy_score(y_val, val_predictions)\n",
        "print(f\"Validation Accuracy: {val_accuracy:.4f}\")\n",
        "\n",
        "# Step 7: Combine predictions with the `id` and `label` columns for the submission\n",
        "submission = val_data_rem_dup[['id', 'label']].copy()  # Keep the `id` and `label` columns\n",
        "submission['predictions'] = val_predictions\n",
        "submission"
      ]
    },
    {
      "cell_type": "code",
      "execution_count": 100,
      "metadata": {},
      "outputs": [
        {
          "name": "stdout",
          "output_type": "stream",
          "text": [
            "Class distribution before SMOTE:\n",
            "label\n",
            "1    103880\n",
            "0      8443\n",
            "Name: count, dtype: int64\n",
            "Class distribution after SMOTE:\n",
            "label\n",
            "1    103880\n",
            "0    103880\n",
            "Name: count, dtype: int64\n"
          ]
        },
        {
          "name": "stderr",
          "output_type": "stream",
          "text": [
            "c:\\Users\\ACER\\AppData\\Local\\Programs\\Python\\Python312\\Lib\\site-packages\\sklearn\\pipeline.py:62: FutureWarning: This Pipeline instance is not fitted yet. Call 'fit' with appropriate arguments before using other methods such as transform, predict, etc. This will raise an error in 1.8 instead of the current warning.\n",
            "  warnings.warn(\n"
          ]
        },
        {
          "name": "stdout",
          "output_type": "stream",
          "text": [
            "Validation Accuracy: 0.6286\n"
          ]
        },
        {
          "data": {
            "text/html": [
              "<div>\n",
              "<style scoped>\n",
              "    .dataframe tbody tr th:only-of-type {\n",
              "        vertical-align: middle;\n",
              "    }\n",
              "\n",
              "    .dataframe tbody tr th {\n",
              "        vertical-align: top;\n",
              "    }\n",
              "\n",
              "    .dataframe thead th {\n",
              "        text-align: right;\n",
              "    }\n",
              "</style>\n",
              "<table border=\"1\" class=\"dataframe\">\n",
              "  <thead>\n",
              "    <tr style=\"text-align: right;\">\n",
              "      <th></th>\n",
              "      <th>id</th>\n",
              "      <th>label</th>\n",
              "      <th>predictions</th>\n",
              "    </tr>\n",
              "  </thead>\n",
              "  <tbody>\n",
              "    <tr>\n",
              "      <th>110142</th>\n",
              "      <td>184935</td>\n",
              "      <td>1</td>\n",
              "      <td>1</td>\n",
              "    </tr>\n",
              "    <tr>\n",
              "      <th>8967</th>\n",
              "      <td>14951</td>\n",
              "      <td>1</td>\n",
              "      <td>0</td>\n",
              "    </tr>\n",
              "    <tr>\n",
              "      <th>136488</th>\n",
              "      <td>229147</td>\n",
              "      <td>1</td>\n",
              "      <td>1</td>\n",
              "    </tr>\n",
              "    <tr>\n",
              "      <th>13834</th>\n",
              "      <td>23077</td>\n",
              "      <td>1</td>\n",
              "      <td>1</td>\n",
              "    </tr>\n",
              "    <tr>\n",
              "      <th>75770</th>\n",
              "      <td>126794</td>\n",
              "      <td>1</td>\n",
              "      <td>1</td>\n",
              "    </tr>\n",
              "    <tr>\n",
              "      <th>...</th>\n",
              "      <td>...</td>\n",
              "      <td>...</td>\n",
              "      <td>...</td>\n",
              "    </tr>\n",
              "    <tr>\n",
              "      <th>46841</th>\n",
              "      <td>78346</td>\n",
              "      <td>1</td>\n",
              "      <td>0</td>\n",
              "    </tr>\n",
              "    <tr>\n",
              "      <th>115523</th>\n",
              "      <td>193972</td>\n",
              "      <td>1</td>\n",
              "      <td>1</td>\n",
              "    </tr>\n",
              "    <tr>\n",
              "      <th>74487</th>\n",
              "      <td>124624</td>\n",
              "      <td>1</td>\n",
              "      <td>1</td>\n",
              "    </tr>\n",
              "    <tr>\n",
              "      <th>135352</th>\n",
              "      <td>227255</td>\n",
              "      <td>1</td>\n",
              "      <td>1</td>\n",
              "    </tr>\n",
              "    <tr>\n",
              "      <th>126907</th>\n",
              "      <td>213031</td>\n",
              "      <td>1</td>\n",
              "      <td>1</td>\n",
              "    </tr>\n",
              "  </tbody>\n",
              "</table>\n",
              "<p>28081 rows × 3 columns</p>\n",
              "</div>"
            ],
            "text/plain": [
              "            id  label  predictions\n",
              "110142  184935      1            1\n",
              "8967     14951      1            0\n",
              "136488  229147      1            1\n",
              "13834    23077      1            1\n",
              "75770   126794      1            1\n",
              "...        ...    ...          ...\n",
              "46841    78346      1            0\n",
              "115523  193972      1            1\n",
              "74487   124624      1            1\n",
              "135352  227255      1            1\n",
              "126907  213031      1            1\n",
              "\n",
              "[28081 rows x 3 columns]"
            ]
          },
          "execution_count": 100,
          "metadata": {},
          "output_type": "execute_result"
        }
      ],
      "source": [
        "#scratch naive bayes\n",
        "X_train = train_data_rem_dup.drop(columns=['id', 'label'])\n",
        "y_train = train_data_rem_dup['label']\n",
        "X_train_transformed = submission_pipe.fit_transform(X_train)\n",
        "\n",
        "X_train_balanced, y_train_balanced = balance_classes(X_train_transformed, y_train)\n",
        "\n",
        "X_val = val_data_rem_dup.drop(columns=['id', 'label'])\n",
        "y_val = val_data_rem_dup['label']\n",
        "X_val_transformed = submission_pipe.transform(X_val)\n",
        "\n",
        "nb = NaiveBayes(smoothing=1.0)\n",
        "nb.fit(X_train_balanced, y_train_balanced)\n",
        "\n",
        "val_predictions = nb.predict(X_val_transformed)\n",
        "\n",
        "val_accuracy = nb.score(X_val_transformed, y_val)\n",
        "print(f\"Validation Accuracy: {val_accuracy:.4f}\")\n",
        "\n",
        "submission = val_data_rem_dup[['id', 'label']].copy() \n",
        "submission['predictions'] = val_predictions\n",
        "submission"
      ]
    },
    {
      "cell_type": "code",
      "execution_count": 101,
      "metadata": {},
      "outputs": [
        {
          "data": {
            "text/plain": [
              "['naive_bayes_model.joblib']"
            ]
          },
          "execution_count": 101,
          "metadata": {},
          "output_type": "execute_result"
        }
      ],
      "source": [
        "# save model naive bayes scratch\n",
        "joblib.dump(nb, 'naive_bayes_model.joblib')\n",
        "\n",
        "# cara load\n",
        "# nb = joblib.load('naive_bayes_model.joblib')"
      ]
    },
    {
      "cell_type": "code",
      "execution_count": 102,
      "metadata": {},
      "outputs": [
        {
          "name": "stdout",
          "output_type": "stream",
          "text": [
            "Metrics for Scratch Implementation\n",
            "Classification Report:\n",
            "                  precision    recall  f1-score   support\n",
            "\n",
            "    Phishing (0)       0.17      1.00      0.29      2111\n",
            "Non-Phishing (1)       1.00      0.60      0.75     25970\n",
            "\n",
            "        accuracy                           0.63     28081\n",
            "       macro avg       0.58      0.80      0.52     28081\n",
            "    weighted avg       0.94      0.63      0.71     28081\n",
            "\n",
            "\n",
            "Confusion Matrix:\n",
            "[[ 2109     2]\n",
            " [10428 15542]]\n"
          ]
        }
      ],
      "source": [
        "print(\"Metrics for Scratch Implementation\")\n",
        "scratch_report = classification_report(y_val, val_predictions, target_names=['Phishing (0)', 'Non-Phishing (1)'])\n",
        "scratch_cm = confusion_matrix(y_val, val_predictions)\n",
        "print(\"Classification Report:\")\n",
        "print(scratch_report)\n",
        "print(\"\\nConfusion Matrix:\")\n",
        "print(scratch_cm)"
      ]
    },
    {
      "cell_type": "code",
      "execution_count": null,
      "metadata": {},
      "outputs": [
        {
          "name": "stdout",
          "output_type": "stream",
          "text": [
            "Class distribution before SMOTE:\n",
            "label\n",
            "1    103880\n",
            "0      8443\n",
            "Name: count, dtype: int64\n",
            "Class distribution after SMOTE:\n",
            "label\n",
            "1    103880\n",
            "0    103880\n",
            "Name: count, dtype: int64\n"
          ]
        },
        {
          "name": "stderr",
          "output_type": "stream",
          "text": [
            "c:\\Users\\ACER\\AppData\\Local\\Programs\\Python\\Python312\\Lib\\site-packages\\sklearn\\pipeline.py:62: FutureWarning: This Pipeline instance is not fitted yet. Call 'fit' with appropriate arguments before using other methods such as transform, predict, etc. This will raise an error in 1.8 instead of the current warning.\n",
            "  warnings.warn(\n"
          ]
        },
        {
          "name": "stdout",
          "output_type": "stream",
          "text": [
            "Validation Accuracy: 0.7484\n"
          ]
        },
        {
          "data": {
            "text/html": [
              "<div>\n",
              "<style scoped>\n",
              "    .dataframe tbody tr th:only-of-type {\n",
              "        vertical-align: middle;\n",
              "    }\n",
              "\n",
              "    .dataframe tbody tr th {\n",
              "        vertical-align: top;\n",
              "    }\n",
              "\n",
              "    .dataframe thead th {\n",
              "        text-align: right;\n",
              "    }\n",
              "</style>\n",
              "<table border=\"1\" class=\"dataframe\">\n",
              "  <thead>\n",
              "    <tr style=\"text-align: right;\">\n",
              "      <th></th>\n",
              "      <th>id</th>\n",
              "      <th>label</th>\n",
              "      <th>predictions</th>\n",
              "    </tr>\n",
              "  </thead>\n",
              "  <tbody>\n",
              "    <tr>\n",
              "      <th>110142</th>\n",
              "      <td>184935</td>\n",
              "      <td>1</td>\n",
              "      <td>1</td>\n",
              "    </tr>\n",
              "    <tr>\n",
              "      <th>8967</th>\n",
              "      <td>14951</td>\n",
              "      <td>1</td>\n",
              "      <td>0</td>\n",
              "    </tr>\n",
              "    <tr>\n",
              "      <th>136488</th>\n",
              "      <td>229147</td>\n",
              "      <td>1</td>\n",
              "      <td>1</td>\n",
              "    </tr>\n",
              "    <tr>\n",
              "      <th>13834</th>\n",
              "      <td>23077</td>\n",
              "      <td>1</td>\n",
              "      <td>1</td>\n",
              "    </tr>\n",
              "    <tr>\n",
              "      <th>75770</th>\n",
              "      <td>126794</td>\n",
              "      <td>1</td>\n",
              "      <td>1</td>\n",
              "    </tr>\n",
              "    <tr>\n",
              "      <th>...</th>\n",
              "      <td>...</td>\n",
              "      <td>...</td>\n",
              "      <td>...</td>\n",
              "    </tr>\n",
              "    <tr>\n",
              "      <th>46841</th>\n",
              "      <td>78346</td>\n",
              "      <td>1</td>\n",
              "      <td>0</td>\n",
              "    </tr>\n",
              "    <tr>\n",
              "      <th>115523</th>\n",
              "      <td>193972</td>\n",
              "      <td>1</td>\n",
              "      <td>1</td>\n",
              "    </tr>\n",
              "    <tr>\n",
              "      <th>74487</th>\n",
              "      <td>124624</td>\n",
              "      <td>1</td>\n",
              "      <td>1</td>\n",
              "    </tr>\n",
              "    <tr>\n",
              "      <th>135352</th>\n",
              "      <td>227255</td>\n",
              "      <td>1</td>\n",
              "      <td>1</td>\n",
              "    </tr>\n",
              "    <tr>\n",
              "      <th>126907</th>\n",
              "      <td>213031</td>\n",
              "      <td>1</td>\n",
              "      <td>1</td>\n",
              "    </tr>\n",
              "  </tbody>\n",
              "</table>\n",
              "<p>28081 rows × 3 columns</p>\n",
              "</div>"
            ],
            "text/plain": [
              "            id  label  predictions\n",
              "110142  184935      1            1\n",
              "8967     14951      1            0\n",
              "136488  229147      1            1\n",
              "13834    23077      1            1\n",
              "75770   126794      1            1\n",
              "...        ...    ...          ...\n",
              "46841    78346      1            0\n",
              "115523  193972      1            1\n",
              "74487   124624      1            1\n",
              "135352  227255      1            1\n",
              "126907  213031      1            1\n",
              "\n",
              "[28081 rows x 3 columns]"
            ]
          },
          "execution_count": 103,
          "metadata": {},
          "output_type": "execute_result"
        }
      ],
      "source": [
        "#scratch naive bayes (scikit learn gaussian)\n",
        "\n",
        "X_train_transformed = submission_pipe.fit_transform(X_train)\n",
        "\n",
        "X_train_balanced, y_train_balanced = balance_classes(X_train_transformed, y_train)\n",
        "\n",
        "X_val = val_data_rem_dup.drop(columns=['id', 'label'])\n",
        "y_val = val_data_rem_dup['label']\n",
        "\n",
        "X_val_transformed = submission_pipe.transform(X_val)\n",
        "\n",
        "nb = GaussianNB()\n",
        "nb.fit(X_train_balanced, y_train_balanced)\n",
        "\n",
        "val_predictions = nb.predict(X_val_transformed)\n",
        "\n",
        "val_accuracy = accuracy_score(y_val, val_predictions)\n",
        "print(f\"Validation Accuracy: {val_accuracy:.4f}\")\n",
        "\n",
        "submission = val_data_rem_dup[['id', 'label']].copy()\n",
        "submission['predictions'] = val_predictions\n",
        "submission\n"
      ]
    },
    {
      "cell_type": "code",
      "execution_count": 74,
      "metadata": {},
      "outputs": [
        {
          "name": "stdout",
          "output_type": "stream",
          "text": [
            "Metrics for Scikit-learn Implementation\n",
            "Classification Report:\n",
            "                  precision    recall  f1-score   support\n",
            "\n",
            "    Phishing (0)       0.23      0.98      0.37      2111\n",
            "Non-Phishing (1)       1.00      0.73      0.84     25970\n",
            "\n",
            "        accuracy                           0.75     28081\n",
            "       macro avg       0.61      0.86      0.61     28081\n",
            "    weighted avg       0.94      0.75      0.81     28081\n",
            "\n",
            "\n",
            "Confusion Matrix:\n",
            "[[ 2072    39]\n",
            " [ 7026 18944]]\n"
          ]
        }
      ],
      "source": [
        "print(\"Metrics for Scikit-learn Implementation\")\n",
        "sklearn_report = classification_report(y_val, val_predictions, target_names=['Phishing (0)', 'Non-Phishing (1)'])\n",
        "sklearn_cm = confusion_matrix(y_val, val_predictions)\n",
        "print(\"Classification Report:\")\n",
        "print(sklearn_report)\n",
        "print(\"\\nConfusion Matrix:\")\n",
        "print(sklearn_cm)"
      ]
    },
    {
      "cell_type": "code",
      "execution_count": 104,
      "metadata": {},
      "outputs": [],
      "source": [
        "def compare_nb(y_true, scratch_pred, sklearn_pred):\n",
        "    metrics = {}\n",
        "    \n",
        "    metrics['scratch_accuracy'] = np.mean(scratch_pred == y_true)\n",
        "    metrics['sklearn_accuracy'] = np.mean(sklearn_pred == y_true)\n",
        "    \n",
        "    scratch_cm = confusion_matrix(y_true, scratch_pred)\n",
        "    sklearn_cm = confusion_matrix(y_true, sklearn_pred)\n",
        "    \n",
        "    for implementation, pred in [('scratch', scratch_pred), ('sklearn', sklearn_pred)]:\n",
        "        tn, fp, fn, tp = confusion_matrix(y_true, pred).ravel()\n",
        "        \n",
        "        metrics[f'{implementation}_precision_0'] = tp/(tp+fp) if (tp+fp) != 0 else 0\n",
        "        metrics[f'{implementation}_precision_1'] = tn/(tn+fn) if (tn+fn) != 0 else 0\n",
        "        \n",
        "        metrics[f'{implementation}_recall_0'] = tp/(tp+fn) if (tp+fn) != 0 else 0\n",
        "        metrics[f'{implementation}_recall_1'] = tn/(tn+fp) if (tn+fp) != 0 else 0\n",
        "        \n",
        "        p0 = metrics[f'{implementation}_precision_0']\n",
        "        r0 = metrics[f'{implementation}_recall_0']\n",
        "        metrics[f'{implementation}_f1_0'] = 2*(p0*r0)/(p0+r0) if (p0+r0) != 0 else 0\n",
        "        \n",
        "        p1 = metrics[f'{implementation}_precision_1']\n",
        "        r1 = metrics[f'{implementation}_recall_1']\n",
        "        metrics[f'{implementation}_f1_1'] = 2*(p1*r1)/(p1+r1) if (p1+r1) != 0 else 0\n",
        "    \n",
        "    return metrics\n",
        "\n",
        "metrics = compare_nb(y_val, nb.predict(X_val_transformed), nb_model.predict(X_val_transformed))"
      ]
    },
    {
      "cell_type": "code",
      "execution_count": 108,
      "metadata": {},
      "outputs": [
        {
          "name": "stdout",
          "output_type": "stream",
          "text": [
            "Detailed Comparison\n",
            "Scratch Implementation:\n",
            "- Accuracy: 0.6286\n",
            "- Phishing (0) - Precision: 0.9999, Recall: 0.5985, F1: 0.7488\n",
            "- Non-Phishing (1) - Precision: 0.1682, Recall: 0.9991, F1: 0.2880\n",
            "\n",
            "Scikit-learn Implementation:\n",
            "- Accuracy: 0.7484\n",
            "- Phishing (0) - Precision: 0.9979, Recall: 0.7295, F1: 0.8428\n",
            "- Non-Phishing (1) - Precision: 0.2277, Recall: 0.9815, F1: 0.3697\n"
          ]
        }
      ],
      "source": [
        "print(\"Detailed Comparison\")\n",
        "print(f\"Scratch Implementation:\")\n",
        "print(f\"- Accuracy: {metrics['scratch_accuracy']:.4f}\")\n",
        "print(f\"- Phishing (0) - Precision: {metrics['scratch_precision_0']:.4f}, Recall: {metrics['scratch_recall_0']:.4f}, F1: {metrics['scratch_f1_0']:.4f}\")\n",
        "print(f\"- Non-Phishing (1) - Precision: {metrics['scratch_precision_1']:.4f}, Recall: {metrics['scratch_recall_1']:.4f}, F1: {metrics['scratch_f1_1']:.4f}\")\n",
        "\n",
        "print(f\"\\nScikit-learn Implementation:\")\n",
        "print(f\"- Accuracy: {metrics['sklearn_accuracy']:.4f}\")\n",
        "print(f\"- Phishing (0) - Precision: {metrics['sklearn_precision_0']:.4f}, Recall: {metrics['sklearn_recall_0']:.4f}, F1: {metrics['sklearn_f1_0']:.4f}\")\n",
        "print(f\"- Non-Phishing (1) - Precision: {metrics['sklearn_precision_1']:.4f}, Recall: {metrics['sklearn_recall_1']:.4f}, F1: {metrics['sklearn_f1_1']:.4f}\")"
      ]
    },
    {
      "cell_type": "markdown",
      "metadata": {
        "id": "R-jXvKOpLfHi"
      },
      "source": [
        "# 6. Error Analysis\n",
        "\n",
        "Based on all the process you have done until the modeling and evaluation step, write an analysis to support each steps you have taken to solve this problem. Write the analysis using the markdown block. Some questions that may help you in writing the analysis:\n",
        "\n",
        "- Does my model perform better in predicting one class than the other? If so, why is that?\n",
        "- To each models I have tried, which performs the best and what could be the reason?\n",
        "- Is it better for me to impute or drop the missing data? Why?\n",
        "- Does feature scaling help improve my model performance?\n",
        "- etc...\n"
      ]
    },
    {
      "cell_type": "markdown",
      "metadata": {
        "id": "tWL3nEAELfHj"
      },
      "source": [
        "`Provide your analysis here`\n"
      ]
    }
  ],
  "metadata": {
    "colab": {
      "provenance": []
    },
    "kernelspec": {
      "display_name": "Python 3",
      "language": "python",
      "name": "python3"
    },
    "language_info": {
      "codemirror_mode": {
        "name": "ipython",
        "version": 3
      },
      "file_extension": ".py",
      "mimetype": "text/x-python",
      "name": "python",
      "nbconvert_exporter": "python",
      "pygments_lexer": "ipython3",
      "version": "3.12.7"
    }
  },
  "nbformat": 4,
  "nbformat_minor": 0
}
